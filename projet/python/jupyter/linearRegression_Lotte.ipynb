{
 "cells": [
  {
   "cell_type": "markdown",
   "metadata": {},
   "source": [
    "# Linear Regression On datasets"
   ]
  },
  {
   "cell_type": "code",
   "execution_count": 1,
   "metadata": {},
   "outputs": [],
   "source": [
    "import numpy as np\n",
    "import os\n",
    "import matplotlib.pyplot as plt\n",
    "from mpl_toolkits.mplot3d import Axes3D\n",
    "import numpy as np\n",
    "import time\n",
    "from ctypes import *\n",
    "\n",
    "%run \"~\\Documents\\GitHub\\ProjetAnnuel3IBD\\projet\\python\\encapsulate\\encapsulateSharedMethods.py\"\n",
    "%run \"~\\Documents\\GitHub\\ProjetAnnuel3IBD\\projet\\python\\encapsulate\\encapsulateLinear.py\"\n",
    "pathDLL = \"C:/Users/nico_/Documents/GitHub/ProjetAnnuel3IBD/projet/MLAlgorithms/ML_Library/x64/Release/ML_Library.dll\"\n",
    "myDll = CDLL(pathDLL)\n",
    "\n",
    "pathSave = \"C:/Users/nico_/Documents/GitHub/projetAnnuel3IBD/projet/models/\""
   ]
  },
  {
   "cell_type": "markdown",
   "metadata": {},
   "source": [
    "## Training on Dataset \"Lotte Crop Gray 100x50\""
   ]
  },
  {
   "cell_type": "code",
   "execution_count": 2,
   "metadata": {},
   "outputs": [
    {
     "name": "stdout",
     "output_type": "stream",
     "text": [
      "Moyenne erreurs² : 10.004322766570604\n",
      "Moyenne erreurs : 3.162961075728028\n",
      "--- 200.29355812072754 seconds ---\n"
     ]
    }
   ],
   "source": [
    "pathDatasetTrain = \"C:/Users/nico_/Documents/ConvertedImages/Lotte_Crop_Gray_100x50/train/\"\n",
    "pathDatasetPredict = \"C:/Users/nico_/Documents/ConvertedImages/Lotte_Crop_Gray_100x50/test/\"\n",
    "\n",
    "start_time = time.time()\n",
    "\n",
    "imagesNameTrain = os.listdir(pathDatasetTrain)\n",
    "imagesNamePredict = os.listdir(pathDatasetPredict)\n",
    "\n",
    "# Parameters\n",
    "numberImageTrain = len(imagesNameTrain)\n",
    "component  = 1 # color component\n",
    "imageW = 100\n",
    "imageH = 50\n",
    "inputCountPerSample = (imageW * imageH * component)\n",
    "\n",
    "selectedImagesTrain = random.sample(imagesNameTrain, numberImageTrain)\n",
    "selectedImagesTrain = convertListToString(selectedImagesTrain, pathDatasetTrain)\n",
    "\n",
    "pMatrixX, pMatrixY = prepareDataset(myDll, selectedImagesTrain, imageW, imageH, numberImageTrain, component)\n",
    "\n",
    "pArrayWeight = createLinearModel( myDll, inputCountPerSample )\n",
    "\n",
    "#entrainement du modèle\n",
    "error = fitLinearRegression( myDll, pArrayWeight, pMatrixX, pMatrixY, numberImageTrain, inputCountPerSample )\n",
    "\n",
    "numberImagePredict = len (imagesNamePredict)\n",
    "selectedImagesPredict = random.sample(imagesNamePredict, numberImagePredict)\n",
    "selectedImagesPredict = [pathDatasetPredict + el for el in selectedImagesPredict ]\n",
    "\n",
    "predictResponse = predictLinearRegressionAverage(myDll, selectedImagesPredict, \\\n",
    "                                                 pArrayWeight, imageW, imageH, component, 0)\n",
    "\n",
    "print(\"Moyenne erreurs² : %s\" % predictResponse )\n",
    "print(\"Moyenne erreurs : %s\" % predictResponse**0.5 )\n",
    "saveLinearWeightsInCSV(myDll, (pathSave + \"Linear_Lotte_Crop_Gray_100x50\"  \\\n",
    "                               + \"_p_\" + str(round(predictResponse**0.5, 2)) + \".csv\"), pArrayWeight)\n",
    "deleteLinearModel( myDll, pArrayWeight)\n",
    "print(\"--- %s seconds ---\" % (time.time() - start_time))\n"
   ]
  },
  {
   "cell_type": "markdown",
   "metadata": {},
   "source": [
    "## Training on Dataset \"Lotte Crop Color 100x50\""
   ]
  },
  {
   "cell_type": "code",
   "execution_count": 3,
   "metadata": {},
   "outputs": [
    {
     "name": "stdout",
     "output_type": "stream",
     "text": [
      "Moyenne erreurs² : 1.7399135446685878\n",
      "Moyenne erreurs : 1.319057824611411\n",
      "--- 1268.9429512023926 seconds ---\n"
     ]
    }
   ],
   "source": [
    "pathDatasetTrain = \"C:/Users/nico_/Documents/ConvertedImages/Lotte_Crop_Color_100x50/train/\"\n",
    "pathDatasetPredict = \"C:/Users/nico_/Documents/ConvertedImages/Lotte_Crop_Color_100x50/test/\"\n",
    "\n",
    "start_time = time.time()\n",
    "\n",
    "imagesNameTrain = os.listdir(pathDatasetTrain)\n",
    "imagesNamePredict = os.listdir(pathDatasetPredict)\n",
    "\n",
    "# Parameters\n",
    "numberImageTrain = len(imagesNameTrain)\n",
    "component  = 3 # color component\n",
    "imageW = 100\n",
    "imageH = 50\n",
    "inputCountPerSample = (imageW * imageH * component)\n",
    "\n",
    "selectedImagesTrain = random.sample(imagesNameTrain, numberImageTrain)\n",
    "selectedImagesTrain = convertListToString(selectedImagesTrain, pathDatasetTrain)\n",
    "\n",
    "pMatrixX, pMatrixY = prepareDataset(myDll, selectedImagesTrain, imageW, imageH, numberImageTrain, component)\n",
    "\n",
    "pArrayWeight = createLinearModel( myDll, inputCountPerSample )\n",
    "\n",
    "#entrainement du modèle\n",
    "error = fitLinearRegression( myDll, pArrayWeight, pMatrixX, pMatrixY, numberImageTrain, inputCountPerSample )\n",
    "\n",
    "numberImagePredict = len (imagesNamePredict)\n",
    "selectedImagesPredict = random.sample(imagesNamePredict, numberImagePredict)\n",
    "selectedImagesPredict = [pathDatasetPredict + el for el in selectedImagesPredict ]\n",
    "\n",
    "predictResponse = predictLinearRegressionAverage(myDll, selectedImagesPredict, \\\n",
    "                                                 pArrayWeight, imageW, imageH, component, 0)\n",
    "\n",
    "print(\"Moyenne erreurs² : %s\" % predictResponse )\n",
    "print(\"Moyenne erreurs : %s\" % predictResponse**0.5 )\n",
    "saveLinearWeightsInCSV(myDll, (pathSave + \"Linear_Lotte_Crop_Color_100x50\" \\\n",
    "                               + \"_p_\" + str(round(predictResponse**0.5, 2)) + \".csv\"), pArrayWeight)\n",
    "\n",
    "deleteLinearModel( myDll, pArrayWeight)\n",
    "print(\"--- %s seconds ---\" % (time.time() - start_time))\n"
   ]
  },
  {
   "cell_type": "markdown",
   "metadata": {},
   "source": [
    "## Training on Dataset \"Lotte Crop Gray 490x357\""
   ]
  },
  {
   "cell_type": "code",
   "execution_count": 4,
   "metadata": {},
   "outputs": [
    {
     "name": "stdout",
     "output_type": "stream",
     "text": [
      "Moyenne erreurs² : 3.4927953890489913\n",
      "Moyenne erreurs : 1.8689021881973897\n",
      "--- 18704.22657585144 seconds ---\n"
     ]
    }
   ],
   "source": [
    "pathDatasetTrain = \"C:/Users/nico_/Documents/ConvertedImages/Lotte_Crop_Gray_490x357/train/\"\n",
    "pathDatasetPredict = \"C:/Users/nico_/Documents/ConvertedImages/Lotte_Crop_Gray_490x357/test/\"\n",
    "\n",
    "start_time = time.time()\n",
    "\n",
    "imagesName = os.listdir(pathDatasetTrain)\n",
    "\n",
    "# Parameters\n",
    "numberImageTrain = len(imagesName)\n",
    "component  = 1 # color component\n",
    "imageW = 490\n",
    "imageH = 357\n",
    "inputCountPerSample = (imageW * imageH * component)\n",
    "\n",
    "selectedImages = random.sample(imagesName, numberImageTrain)\n",
    "selectedImages = convertListToString(selectedImages, pathDatasetTrain)\n",
    "\n",
    "pMatrixX, pMatrixY = prepareDataset(myDll, selectedImages, imageW, imageH, numberImageTrain, component)\n",
    "\n",
    "pArrayWeight = createLinearModel( myDll, inputCountPerSample )\n",
    "\n",
    "#entrainement du modèle\n",
    "error = fitLinearRegression( myDll, pArrayWeight, pMatrixX, pMatrixY, numberImageTrain, inputCountPerSample )\n",
    "\n",
    "\n",
    "imagesName = os.listdir(pathDatasetPredict)\n",
    "numberImagePredict = len (imagesName)\n",
    "selectedImages = random.sample(imagesName, numberImagePredict)\n",
    "selectedImages = [pathDatasetPredict + el for el in selectedImages ]\n",
    "\n",
    "predictResponse = predictLinearRegressionAverage(myDll, selectedImages, \\\n",
    "                                                 pArrayWeight, imageW, imageH, component, 0)\n",
    "\n",
    "print(\"Moyenne erreurs² : %s\" % predictResponse )\n",
    "print(\"Moyenne erreurs : %s\" % predictResponse**0.5 )\n",
    "saveLinearWeightsInCSV(myDll, (pathSave + \"Linear_Lotte_Crop_Gray_490x357\" \\\n",
    "                               + \"_p_\" + str(round(predictResponse**0.5, 2)) + \".csv\"), pArrayWeight)\n",
    "\n",
    "deleteLinearModel( myDll, pArrayWeight)\n",
    "print(\"--- %s seconds ---\" % (time.time() - start_time))\n"
   ]
  },
  {
   "cell_type": "markdown",
   "metadata": {},
   "source": [
    "## Training on Dataset \"Lotte Crop Color 490x357\""
   ]
  },
  {
   "cell_type": "code",
   "execution_count": 5,
   "metadata": {},
   "outputs": [
    {
     "name": "stdout",
     "output_type": "stream",
     "text": [
      "Moyenne erreurs² : 1090537501.185879\n",
      "Moyenne erreurs : 33023.2872559029\n",
      "--- 373.89657521247864 seconds ---\n"
     ]
    }
   ],
   "source": [
    "pathDatasetTrain = \"C:/Users/nico_/Documents/ConvertedImages/Lotte_Crop_Color_490x357/train/\"\n",
    "pathDatasetPredict = \"C:/Users/nico_/Documents/ConvertedImages/Lotte_Crop_Color_490x357/test/\"\n",
    "\n",
    "start_time = time.time()\n",
    "\n",
    "imagesNameTrain = os.listdir(pathDatasetTrain)\n",
    "imagesNamePredict = os.listdir(pathDatasetPredict)\n",
    "\n",
    "# Parameters\n",
    "numberImageTrain = len(imagesNameTrain)\n",
    "component  = 3 # color component\n",
    "imageW = 490\n",
    "imageH = 357\n",
    "inputCountPerSample = (imageW * imageH * component)\n",
    "\n",
    "selectedImagesTrain = random.sample(imagesNameTrain, numberImageTrain)\n",
    "selectedImagesTrain = convertListToString(selectedImagesTrain, pathDatasetTrain)\n",
    "\n",
    "pMatrixX, pMatrixY = prepareDataset(myDll, selectedImagesTrain, imageW, imageH, numberImageTrain, component)\n",
    "\n",
    "pArrayWeight = createLinearModel( myDll, inputCountPerSample )\n",
    "\n",
    "#entrainement du modèle\n",
    "error = fitLinearRegression( myDll, pArrayWeight, pMatrixX, pMatrixY, numberImageTrain, inputCountPerSample )\n",
    "\n",
    "numberImagePredict = len (imagesNamePredict)\n",
    "selectedImagesPredict = random.sample(imagesNamePredict, numberImagePredict)\n",
    "selectedImagesPredict = [pathDatasetPredict + el for el in selectedImagesPredict ]\n",
    "\n",
    "predictResponse = predictLinearRegressionAverage(myDll, selectedImagesPredict, \\\n",
    "                                                 pArrayWeight, imageW, imageH, component, 0)\n",
    "\n",
    "print(\"Moyenne erreurs² : %s\" % predictResponse )\n",
    "print(\"Moyenne erreurs : %s\" % predictResponse**0.5 )\n",
    "saveLinearWeightsInCSV(myDll, (pathSave + \"Linear_Lotte_Crop_Color_490x357\" \\\n",
    "                               + \"_p_\" + str(round(predictResponse**0.5, 2)) + \".csv\"), pArrayWeight)\n",
    "\n",
    "deleteLinearModel( myDll, pArrayWeight)\n",
    "print(\"--- %s seconds ---\" % (time.time() - start_time))\n"
   ]
  }
 ],
 "metadata": {
  "kernelspec": {
   "display_name": "Python 3",
   "language": "python",
   "name": "python3"
  },
  "language_info": {
   "codemirror_mode": {
    "name": "ipython",
    "version": 3
   },
   "file_extension": ".py",
   "mimetype": "text/x-python",
   "name": "python",
   "nbconvert_exporter": "python",
   "pygments_lexer": "ipython3",
   "version": "3.7.3"
  }
 },
 "nbformat": 4,
 "nbformat_minor": 2
}
