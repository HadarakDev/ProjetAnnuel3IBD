{
 "cells": [
  {
   "cell_type": "code",
   "execution_count": 1,
   "metadata": {},
   "outputs": [],
   "source": [
    "import numpy as np\n",
    "import os\n",
    "import matplotlib.pyplot as plt\n",
    "from mpl_toolkits.mplot3d import Axes3D\n",
    "import numpy as np\n",
    "import time\n",
    "from ctypes import *\n",
    "\n",
    "%run \"~\\Documents\\GitHub\\ProjetAnnuel3IBD\\projet\\python\\encapsulate\\encapsulateSharedMethods.py\"\n",
    "%run \"~\\Documents\\GitHub\\ProjetAnnuel3IBD\\projet\\python\\encapsulate\\encapsulateLinear.py\"\n",
    "pathDLL = \"C:/Users/nico_/Documents/GitHub/ProjetAnnuel3IBD/projet/MLAlgorithms/ML_Library/x64/Release/ML_Library.dll\"\n",
    "myDll = CDLL(pathDLL)\n",
    "\n",
    "pathSave = \"C:/Users/nico_/Documents/GitHub/projetAnnuel3IBD/projet/models/\""
   ]
  },
  {
   "cell_type": "markdown",
   "metadata": {},
   "source": [
    "## Training on Dataset \"Big Dataset Color 50x50\""
   ]
  },
  {
   "cell_type": "code",
   "execution_count": 2,
   "metadata": {},
   "outputs": [
    {
     "name": "stdout",
     "output_type": "stream",
     "text": [
      "Moyenne erreurs² : 2827.387183741186\n",
      "Moyenne erreurs : 53.17318105719448\n",
      "--- 368.3971450328827 seconds ---\n"
     ]
    }
   ],
   "source": [
    "pathDatasetTrain = \"C:/Users/nico_/Documents/ConvertedImages/Bigdataset_Color_50x50/train/\"\n",
    "pathDatasetPredict = \"C:/Users/nico_/Documents/ConvertedImages/Bigdataset_Color_50x50/test/\"\n",
    "\n",
    "start_time = time.time()\n",
    "\n",
    "imagesNameTrain = os.listdir(pathDatasetTrain)\n",
    "imagesNamePredict = os.listdir(pathDatasetPredict)\n",
    "\n",
    "# Parameters\n",
    "numberImageTrain =  len(imagesNamePredict)\n",
    "component  = 3 # color component\n",
    "imageW = 50\n",
    "imageH = 50\n",
    "inputCountPerSample = (imageW * imageH * component)\n",
    "dividedPixel = 1\n",
    "\n",
    "selectedImagesTrain = random.sample(imagesNameTrain, numberImageTrain)\n",
    "selectedImagesTrain = convertListToString(selectedImagesTrain, pathDatasetTrain)\n",
    "\n",
    "pMatrixX, pMatrixY = prepareDataset(myDll, selectedImagesTrain, imageW, imageH, numberImageTrain, component, dividedPixel)\n",
    "\n",
    "pArrayWeight = createLinearModel( myDll, inputCountPerSample )\n",
    "\n",
    "#entrainement du modèle\n",
    "error = fitLinearRegression( myDll, pArrayWeight, pMatrixX, pMatrixY, numberImageTrain, inputCountPerSample )\n",
    "\n",
    "numberImagePredict = len (imagesNamePredict)\n",
    "selectedImagesPredict = random.sample(imagesNamePredict, numberImagePredict)\n",
    "selectedImagesPredict = [pathDatasetPredict + el for el in selectedImagesPredict ]\n",
    "\n",
    "predictResponse = predictLinearRegressionAverage(myDll, selectedImagesPredict, \\\n",
    "                                                 pArrayWeight, imageW, imageH, component, 0, dividedPixel)\n",
    "\n",
    "print(\"Moyenne erreurs² : %s\" % predictResponse )\n",
    "print(\"Moyenne erreurs : %s\" % predictResponse**0.5 )\n",
    "\n",
    "saveLinearWeightsInCSV(myDll, (pathSave + \"Linear_Bigdataset_Color_50x50_nb_\"+ str(numberImageTrain) + \"_pixel_\" + str(dividedPixel) \\\n",
    "                               + \"_p_\" + str(round(predictResponse**0.5, 3)) + \".csv\"), pArrayWeight)\n",
    "\n",
    "deleteLinearModel( myDll, pArrayWeight)\n",
    "print(\"--- %s seconds ---\" % (time.time() - start_time))"
   ]
  },
  {
   "cell_type": "code",
   "execution_count": null,
   "metadata": {},
   "outputs": [],
   "source": []
  }
 ],
 "metadata": {
  "kernelspec": {
   "display_name": "Python 3",
   "language": "python",
   "name": "python3"
  },
  "language_info": {
   "codemirror_mode": {
    "name": "ipython",
    "version": 3
   },
   "file_extension": ".py",
   "mimetype": "text/x-python",
   "name": "python",
   "nbconvert_exporter": "python",
   "pygments_lexer": "ipython3",
   "version": "3.7.3"
  }
 },
 "nbformat": 4,
 "nbformat_minor": 2
}
