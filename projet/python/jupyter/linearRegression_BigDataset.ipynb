{
 "cells": [
  {
   "cell_type": "code",
   "execution_count": 2,
   "metadata": {},
   "outputs": [],
   "source": [
    "import numpy as np\n",
    "import os\n",
    "import matplotlib.pyplot as plt\n",
    "from mpl_toolkits.mplot3d import Axes3D\n",
    "import numpy as np\n",
    "import time\n",
    "from ctypes import *\n",
    "\n",
    "%run \"~\\Documents\\GitHub\\ProjetAnnuel3IBD\\projet\\python\\encapsulate\\encapsulateSharedMethods.py\"\n",
    "%run \"~\\Documents\\GitHub\\ProjetAnnuel3IBD\\projet\\python\\encapsulate\\encapsulateLinear.py\"\n",
    "pathDLL = \"C:/Users/nico_/Documents/GitHub/ProjetAnnuel3IBD/projet/MLAlgorithms/ML_Library/x64/Release/ML_Library.dll\"\n",
    "myDll = CDLL(pathDLL)\n",
    "\n",
    "pathSave = \"C:/Users/nico_/Documents/GitHub/projetAnnuel3IBD/projet/models/\""
   ]
  },
  {
   "cell_type": "markdown",
   "metadata": {},
   "source": [
    "## Training on Dataset \"Big Dataset Color 50x50\""
   ]
  },
  {
   "cell_type": "code",
   "execution_count": 4,
   "metadata": {},
   "outputs": [
    {
     "name": "stdout",
     "output_type": "stream",
     "text": [
      "Moyenne erreurs² : 3484.8793031936957\n",
      "Moyenne erreurs : 59.03286629661223\n",
      "--- 363.5790374279022 seconds ---\n"
     ]
    }
   ],
   "source": [
    "pathDatasetTrain = \"C:/Users/nico_/Documents/ConvertedImages/Bigdataset_Color_50x50/train/\"\n",
    "pathDatasetPredict = \"C:/Users/nico_/Documents/ConvertedImages/Bigdataset_Color_50x50/test/\"\n",
    "\n",
    "start_time = time.time()\n",
    "\n",
    "imagesNameTrain = os.listdir(pathDatasetTrain)\n",
    "imagesNamePredict = os.listdir(pathDatasetPredict)\n",
    "\n",
    "# Parameters\n",
    "numberImageTrain =  len(imagesNamePredict)\n",
    "component  = 3 # color component\n",
    "imageW = 50\n",
    "imageH = 50\n",
    "inputCountPerSample = (imageW * imageH * component)\n",
    "\n",
    "selectedImagesTrain = random.sample(imagesNameTrain, numberImageTrain)\n",
    "selectedImagesTrain = convertListToString(selectedImagesTrain, pathDatasetTrain)\n",
    "\n",
    "pMatrixX, pMatrixY = prepareDataset(myDll, selectedImagesTrain, imageW, imageH, numberImageTrain, component)\n",
    "\n",
    "pArrayWeight = createLinearModel( myDll, inputCountPerSample )\n",
    "\n",
    "#entrainement du modèle\n",
    "error = fitLinearRegression( myDll, pArrayWeight, pMatrixX, pMatrixY, numberImageTrain, inputCountPerSample )\n",
    "\n",
    "numberImagePredict = len (imagesNamePredict)\n",
    "selectedImagesPredict = random.sample(imagesNamePredict, numberImagePredict)\n",
    "selectedImagesPredict = [pathDatasetPredict + el for el in selectedImagesPredict ]\n",
    "\n",
    "predictResponse = predictLinearRegressionAverage(myDll, selectedImagesPredict, \\\n",
    "                                                 pArrayWeight, imageW, imageH, component, 0)\n",
    "\n",
    "print(\"Moyenne erreurs² : %s\" % predictResponse )\n",
    "print(\"Moyenne erreurs : %s\" % predictResponse**0.5 )\n",
    "\n",
    "saveLinearWeightsInCSV(myDll, (pathSave + \"Linear_Bigdataset_Color_50x50_\" \\\n",
    "                               + \"p_\" + str(round(predictResponse**0.5, 2)) + \".csv\"), pArrayWeight)\n",
    "\n",
    "deleteLinearModel( myDll, pArrayWeight)\n",
    "print(\"--- %s seconds ---\" % (time.time() - start_time))"
   ]
  },
  {
   "cell_type": "markdown",
   "metadata": {},
   "source": [
    "## Training on Dataset \"Big Dataset Gray 100x50\""
   ]
  },
  {
   "cell_type": "code",
   "execution_count": 2,
   "metadata": {},
   "outputs": [
    {
     "name": "stdout",
     "output_type": "stream",
     "text": [
      "Moyenne erreurs² : 961.7393197843219\n",
      "Moyenne erreurs : 31.01192222008049\n",
      "--- 366.8807396888733 seconds ---\n"
     ]
    }
   ],
   "source": [
    "pathDatasetTrain = \"C:/Users/nico_/Documents/ConvertedImages/Bigdataset_Gray_100x50/train/\"\n",
    "pathDatasetPredict = \"C:/Users/nico_/Documents/ConvertedImages/Bigdataset_Gray_100x50/test/\"\n",
    "\n",
    "start_time = time.time()\n",
    "\n",
    "imagesNameTrain = os.listdir(pathDatasetTrain)\n",
    "imagesNamePredict = os.listdir(pathDatasetPredict)\n",
    "\n",
    "# Parameters\n",
    "numberImageTrain = 9000# len(imagesName)\n",
    "component  = 1 # color component\n",
    "imageW = 100\n",
    "imageH = 50\n",
    "inputCountPerSample = (imageW * imageH * component)\n",
    "\n",
    "selectedImagesTrain = random.sample(imagesNameTrain, numberImageTrain)\n",
    "selectedImagesTrain = convertListToString(selectedImagesTrain, pathDatasetTrain)\n",
    "\n",
    "pMatrixX, pMatrixY = prepareDataset(myDll, selectedImagesTrain, imageW, imageH, numberImageTrain, component)\n",
    "\n",
    "pArrayWeight = createLinearModel( myDll, inputCountPerSample )\n",
    "\n",
    "#entrainement du modèle\n",
    "error = fitLinearRegression( myDll, pArrayWeight, pMatrixX, pMatrixY, numberImageTrain, inputCountPerSample )\n",
    "\n",
    "numberImagePredict = len (imagesNamePredict)\n",
    "selectedImagesPredict = random.sample(imagesNamePredict, numberImagePredict)\n",
    "selectedImagesPredict = [pathDatasetPredict + el for el in selectedImagesPredict ]\n",
    "\n",
    "predictResponse = predictLinearRegressionAverage(myDll, selectedImagesPredict, \\\n",
    "                                                 pArrayWeight, imageW, imageH, component, 0)\n",
    "\n",
    "print(\"Moyenne erreurs² : %s\" % predictResponse )\n",
    "print(\"Moyenne erreurs : %s\" % predictResponse**0.5 )\n",
    "\n",
    "saveLinearWeightsInCSV(myDll, (pathSave + \"Linear_Bigdataset_Gray_100x50_\" \\\n",
    "                               + \"p_\" + str(round(predictResponse**0.5, 2)) + \".csv\"), pArrayWeight)\n",
    "\n",
    "deleteLinearModel( myDll, pArrayWeight)\n",
    "print(\"--- %s seconds ---\" % (time.time() - start_time))"
   ]
  },
  {
   "cell_type": "markdown",
   "metadata": {},
   "source": [
    "## Training on Dataset \"Big Dataset Color 100x50\""
   ]
  },
  {
   "cell_type": "code",
   "execution_count": 3,
   "metadata": {},
   "outputs": [
    {
     "name": "stdout",
     "output_type": "stream",
     "text": [
      "Moyenne erreurs² : 3684.470551638324\n",
      "Moyenne erreurs : 60.699839799115814\n",
      "--- 2045.3936557769775 seconds ---\n"
     ]
    }
   ],
   "source": [
    "pathDatasetTrain = \"C:/Users/nico_/Documents/ConvertedImages/Bigdataset_Color_100x50/train/\"\n",
    "pathDatasetPredict = \"C:/Users/nico_/Documents/ConvertedImages/Bigdataset_Color_100x50/test/\"\n",
    "\n",
    "start_time = time.time()\n",
    "\n",
    "\n",
    "imagesNameTrain = os.listdir(pathDatasetTrain)\n",
    "imagesNamePredict = os.listdir(pathDatasetPredict)\n",
    "\n",
    "# Parameters\n",
    "numberImageTrain = 9000# len(imagesName)\n",
    "component  = 3 # color component\n",
    "imageW = 100\n",
    "imageH = 50\n",
    "inputCountPerSample = (imageW * imageH * component)\n",
    "\n",
    "selectedImagesTrain = random.sample(imagesNameTrain, numberImageTrain)\n",
    "selectedImagesTrain = convertListToString(selectedImagesTrain, pathDatasetTrain)\n",
    "\n",
    "pMatrixX, pMatrixY = prepareDataset(myDll, selectedImagesTrain, imageW, imageH, numberImageTrain, component)\n",
    "\n",
    "pArrayWeight = createLinearModel( myDll, inputCountPerSample )\n",
    "\n",
    "#entrainement du modèle\n",
    "error = fitLinearRegression( myDll, pArrayWeight, pMatrixX, pMatrixY, numberImageTrain, inputCountPerSample )\n",
    "\n",
    "numberImagePredict = len (imagesNamePredict)\n",
    "selectedImagesPredict = random.sample(imagesNamePredict, numberImagePredict)\n",
    "selectedImagesPredict = [pathDatasetPredict + el for el in selectedImagesPredict ]\n",
    "\n",
    "predictResponse = predictLinearRegressionAverage(myDll, selectedImagesPredict, \\\n",
    "                                                 pArrayWeight, imageW, imageH, component, 0)\n",
    "\n",
    "print(\"Moyenne erreurs² : %s\" % predictResponse )\n",
    "print(\"Moyenne erreurs : %s\" % predictResponse**0.5 )\n",
    "\n",
    "saveLinearWeightsInCSV(myDll, (pathSave + \"Linear_Bigdataset_Color_100x50\" \\\n",
    "                               + \"p_\" + str(round(predictResponse**0.5, 2)) + \".csv\"), pArrayWeight)\n",
    "\n",
    "deleteLinearModel( myDll, pArrayWeight)\n",
    "print(\"--- %s seconds ---\" % (time.time() - start_time))"
   ]
  }
 ],
 "metadata": {
  "kernelspec": {
   "display_name": "Python 3",
   "language": "python",
   "name": "python3"
  },
  "language_info": {
   "codemirror_mode": {
    "name": "ipython",
    "version": 3
   },
   "file_extension": ".py",
   "mimetype": "text/x-python",
   "name": "python",
   "nbconvert_exporter": "python",
   "pygments_lexer": "ipython3",
   "version": "3.7.3"
  }
 },
 "nbformat": 4,
 "nbformat_minor": 2
}
