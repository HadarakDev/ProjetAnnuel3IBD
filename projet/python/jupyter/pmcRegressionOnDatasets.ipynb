{
 "cells": [
  {
   "cell_type": "markdown",
   "metadata": {},
   "source": [
    "# PMC Regression On datasets"
   ]
  },
  {
   "cell_type": "code",
   "execution_count": 1,
   "metadata": {},
   "outputs": [],
   "source": [
    "import numpy as np\n",
    "import os\n",
    "import matplotlib.pyplot as plt\n",
    "from mpl_toolkits.mplot3d import Axes3D\n",
    "import numpy as np\n",
    "import time\n",
    "import random\n",
    "from ctypes import *\n",
    "\n",
    "%run \"~\\Documents\\GitHub\\ProjetAnnuel3IBD\\projet\\python\\encapsulate\\encapsulateSharedMethods.py\"\n",
    "%run \"~\\Documents\\GitHub\\ProjetAnnuel3IBD\\projet\\python\\encapsulate\\encapsulatePMC.py\"\n",
    "pathDLL = \"C:/Users/nico_/Documents/GitHub/ProjetAnnuel3IBD/projet/MLAlgorithms/ML_Library/x64/Release/ML_Library.dll\"\n",
    "myDll = CDLL(pathDLL)\n",
    "\n",
    "pathSave = \"C:/Users/nico_/Documents/GitHub/projetAnnuel3IBD/projet/models/\""
   ]
  },
  {
   "cell_type": "markdown",
   "metadata": {},
   "source": [
    "## Training on Dataset \"Lotte Crop Gray 100x50\""
   ]
  },
  {
   "cell_type": "code",
   "execution_count": null,
   "metadata": {},
   "outputs": [],
   "source": [
    "pathDatasetTrain = \"C:/Users/nico_/Documents/ConvertedImages/Lotte_Crop_Gray_100x50/train/\"\n",
    "pathDatasetPredict = \"C:/Users/nico_/Documents/ConvertedImages/Lotte_Crop_Gray_100x50/test/\"\n",
    "\n",
    "start_time = time.time()\n",
    "\n",
    "imagesName = os.listdir(pathDatasetTrain)\n",
    "\n",
    "# Parameters\n",
    "numberImageTrain = len(imagesName)\n",
    "component  = 1 # color component\n",
    "imageW = 100\n",
    "imageH = 50\n",
    "inputCountPerSample = (imageW * imageH * component)\n",
    "alpha = 0.01\n",
    "epochs = 100\n",
    "display = 10\n",
    "pmcStruct = [inputCountPerSample, 2, 1]\n",
    "arrStruct = (c_int * len(pmcStruct))(*pmcStruct)\n",
    "\n",
    "selectedImages = random.sample(imagesName, numberImageTrain)\n",
    "selectedImages = convertListToString(selectedImages, pathDatasetTrain)\n",
    "\n",
    "pMatrixX, pMatrixY = prepareDataset(myDll, selectedImages, imageW, imageH, numberImageTrain, component)\n",
    "\n",
    "pArrayWeight = createPMCModel(myDll, pmcStruct, arrStruct)\n",
    "\n",
    "# Fit PMC with regression version\n",
    "fitPMCRegression( myDll, pArrayWeight, pMatrixX, pMatrixY, numberImageTrain, alpha, epochs, display)\n",
    "\n",
    "\n",
    "savePMCInCSV(myDll,(pathSave + \"PMC_Lotte_Crop_Gray_100x50.csv\"), pArrayWeight)\n",
    "\n",
    "imagesName = os.listdir(pathDatasetPredict)\n",
    "numberImagePredict = len (imagesName)\n",
    "selectedImages = random.sample(imagesName, numberImagePredict)\n",
    "selectedImages = [pathDatasetPredict + el for el in selectedImages ]\n",
    "\n",
    "print (\"----Prediction---\")\n",
    "predictResponse = predictResponse = predictPMCRegressionAverage(myDll, selectedImages, pArrayWeight, imageW, imageH, component)\n",
    "print(\"Moyenne erreurs² : %s\" % predictResponse )\n",
    "print(\"Moyenne erreurs : %s\" % predictResponse**0.5 )\n",
    "\n",
    "deletePMCModel( myDll, pArrayWeight )\n"
   ]
  },
  {
   "cell_type": "markdown",
   "metadata": {},
   "source": [
    "## Training on Dataset \"Lotte Crop Gray 490x357\"\n"
   ]
  },
  {
   "cell_type": "code",
   "execution_count": null,
   "metadata": {},
   "outputs": [],
   "source": [
    "start_time = time.time()\n",
    "\n",
    "imagesName = os.listdir(pathDatasetTrain)\n",
    "\n",
    "# Parameters\n",
    "numberImageTrain = len(imagesName)\n",
    "component  = 1 # color component\n",
    "imageW = 100\n",
    "imageH = 50\n",
    "inputCountPerSample = (imageW * imageH * component)\n",
    "alpha = 0.01\n",
    "epochs = 100\n",
    "display = 10\n",
    "pmcStruct = [inputCountPerSample, 2, 1]\n",
    "arrStruct = (c_int * len(pmcStruct))(*pmcStruct)\n",
    "\n",
    "selectedImages = random.sample(imagesName, numberImageTrain)\n",
    "selectedImages = convertListToString(selectedImages, pathDatasetTrain)\n",
    "\n",
    "pMatrixX, pMatrixY = prepareDataset(myDll, selectedImages, imageW, imageH, numberImageTrain, component)\n",
    "\n",
    "pArrayWeight = createPMCModel(myDll, pmcStruct, arrStruct)\n",
    "\n",
    "# Fit PMC with regression version\n",
    "fitPMCRegression( myDll, pArrayWeight, pMatrixX, pMatrixY, numberImageTrain, alpha, epochs, display)\n",
    "\n",
    "\n",
    "savePMCInCSV(myDll,(pathSave + \"PMC_Lotte_Crop_Gray_490x357.csv\") , pPMC)\n",
    "\n",
    "imagesName = os.listdir(pathDatasetPredict)\n",
    "numberImagePredict = len (imagesName)\n",
    "selectedImages = random.sample(imagesName, numberImagePredict)\n",
    "selectedImages = [pathDatasetPredict + el for el in selectedImages ]\n",
    "\n",
    "print (\"----Prediction---\")\n",
    "predictResponse = predictResponse = predictPMCRegressionAverage(myDll, selectedImages, pArrayWeight, imageW, imageH, component)\n",
    "print(\"Moyenne erreurs² : %s\" % predictResponse )\n",
    "print(\"Moyenne erreurs : %s\" % predictResponse**0.5 )\n",
    "\n",
    "deletePMCModel( myDll, pArrayWeight )"
   ]
  },
  {
   "cell_type": "markdown",
   "metadata": {},
   "source": [
    "## Training on Dataset \"Lotte Crop Color 490x357\""
   ]
  },
  {
   "cell_type": "code",
   "execution_count": null,
   "metadata": {},
   "outputs": [],
   "source": [
    "start_time = time.time()\n",
    "\n",
    "imagesName = os.listdir(pathDatasetTrain)\n",
    "\n",
    "# Parameters\n",
    "numberImageTrain = len(imagesName)\n",
    "component  = 1 # color component\n",
    "imageW = 100\n",
    "imageH = 50\n",
    "inputCountPerSample = (imageW * imageH * component)\n",
    "alpha = 0.01\n",
    "epochs = 100\n",
    "display = 10\n",
    "pmcStruct = [inputCountPerSample, 2, 1]\n",
    "arrStruct = (c_int * len(pmcStruct))(*pmcStruct)\n",
    "\n",
    "selectedImages = random.sample(imagesName, numberImageTrain)\n",
    "selectedImages = convertListToString(selectedImages, pathDatasetTrain)\n",
    "\n",
    "pMatrixX, pMatrixY = prepareDataset(myDll, selectedImages, imageW, imageH, numberImageTrain, component)\n",
    "\n",
    "pArrayWeight = createPMCModel(myDll, pmcStruct, arrStruct)\n",
    "\n",
    "# Fit PMC with regression version\n",
    "fitPMCRegression( myDll, pArrayWeight, pMatrixX, pMatrixY, numberImageTrain, alpha, epochs, display)\n",
    "\n",
    "\n",
    "savePMCInCSV(myDll,(pathSave + \"PMC_Lotte_Crop_Color_490x357.csv\"), pPMC)\n",
    "\n",
    "imagesName = os.listdir(pathDatasetPredict)\n",
    "numberImagePredict = len (imagesName)\n",
    "selectedImages = random.sample(imagesName, numberImagePredict)\n",
    "selectedImages = [pathDatasetPredict + el for el in selectedImages ]\n",
    "\n",
    "print (\"----Prediction---\")\n",
    "predictResponse = predictResponse = predictPMCRegressionAverage(myDll, selectedImages, pArrayWeight, imageW, imageH, component)\n",
    "print(\"Moyenne erreurs² : %s\" % predictResponse )\n",
    "print(\"Moyenne erreurs : %s\" % predictResponse**0.5 )\n",
    "\n",
    "deletePMCModel( myDll, pArrayWeight )"
   ]
  }
 ],
 "metadata": {
  "kernelspec": {
   "display_name": "Python 3",
   "language": "python",
   "name": "python3"
  },
  "language_info": {
   "codemirror_mode": {
    "name": "ipython",
    "version": 3
   },
   "file_extension": ".py",
   "mimetype": "text/x-python",
   "name": "python",
   "nbconvert_exporter": "python",
   "pygments_lexer": "ipython3",
   "version": "3.7.3"
  }
 },
 "nbformat": 4,
 "nbformat_minor": 2
}
