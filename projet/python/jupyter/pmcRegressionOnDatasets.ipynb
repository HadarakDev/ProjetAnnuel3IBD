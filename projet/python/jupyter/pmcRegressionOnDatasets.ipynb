{
 "cells": [
  {
   "cell_type": "markdown",
   "metadata": {},
   "source": [
    "# PMC Regression On datasets"
   ]
  },
  {
   "cell_type": "code",
   "execution_count": 2,
   "metadata": {},
   "outputs": [],
   "source": [
    "import numpy as np\n",
    "import os\n",
    "import matplotlib.pyplot as plt\n",
    "from mpl_toolkits.mplot3d import Axes3D\n",
    "import numpy as np\n",
    "import time\n",
    "import random\n",
    "from ctypes import *\n",
    "\n",
    "%run \"~\\Documents\\GitHub\\ProjetAnnuel3IBD\\projet\\python\\encapsulate\\encapsulateSharedMethods.py\"\n",
    "%run \"~\\Documents\\GitHub\\ProjetAnnuel3IBD\\projet\\python\\encapsulate\\encapsulatePMC.py\"\n",
    "pathDLL = \"C:/Users/nico_/Documents/GitHub/ProjetAnnuel3IBD/projet/MLAlgorithms/ML_Library/x64/Release/ML_Library.dll\"\n",
    "myDll = CDLL(pathDLL)\n",
    "\n",
    "pathSave = \"C:/Users/nico_/Documents/GitHub/projetAnnuel3IBD/projet/models/\""
   ]
  },
  {
   "cell_type": "markdown",
   "metadata": {},
   "source": [
    "## Training on Dataset \"Lotte Crop Gray 100x50\""
   ]
  },
  {
   "cell_type": "code",
   "execution_count": null,
   "metadata": {},
   "outputs": [],
   "source": [
    "pathDatasetTrain = \"C:/Users/nico_/Documents/ConvertedImages/Lotte_Crop_Gray_100x50/train/\"\n",
    "pathDatasetPredict = \"C:/Users/nico_/Documents/ConvertedImages/Lotte_Crop_Gray_100x50/test/\"\n",
    "\n",
    "start_time = time.time()\n",
    "\n",
    "imagesName = os.listdir(pathDatasetTrain)\n",
    "\n",
    "# Parameters\n",
    "numberImageTrain = len(imagesName)\n",
    "component  = 1 # color component\n",
    "imageW = 100\n",
    "imageH = 50\n",
    "inputCountPerSample = (imageW * imageH * component)\n",
    "alpha = 0.01\n",
    "epochs = 100\n",
    "display = 10\n",
    "pmcStruct = [inputCountPerSample, 2, 1]\n",
    "arrStruct = (c_int * len(pmcStruct))(*pmcStruct)\n",
    "\n",
    "selectedImages = random.sample(imagesName, numberImageTrain)\n",
    "selectedImages = convertListToString(selectedImages, pathDatasetTrain)\n",
    "\n",
    "pMatrixX, pMatrixY = prepareDataset(myDll, selectedImages, imageW, imageH, numberImageTrain, component)\n",
    "\n",
    "pArrayWeight = createPMCModel(myDll, pmcStruct, arrStruct)\n",
    "\n",
    "# Fit PMC with regression version\n",
    "fitPMCRegression( myDll, pArrayWeight, pMatrixX, pMatrixY, numberImageTrain, alpha, epochs, display)\n",
    "\n",
    "\n",
    "savePMCInCSV(myDll,(pathSave + \"PMC_Lotte_Crop_Gray_100x50.csv\"), pArrayWeight)\n",
    "\n",
    "imagesName = os.listdir(pathDatasetPredict)\n",
    "numberImagePredict = len (imagesName)\n",
    "selectedImages = random.sample(imagesName, numberImagePredict)\n",
    "selectedImages = [pathDatasetPredict + el for el in selectedImages ]\n",
    "\n",
    "print (\"----Prediction---\")\n",
    "predictResponse = predictResponse = predictPMCRegressionAverage(myDll, selectedImages, pArrayWeight, imageW, imageH, component)\n",
    "print(\"Moyenne erreurs² : %s\" % predictResponse )\n",
    "print(\"Moyenne erreurs : %s\" % predictResponse**0.5 )\n",
    "\n",
    "deletePMCModel( myDll, pArrayWeight )\n"
   ]
  },
  {
   "cell_type": "markdown",
   "metadata": {},
   "source": [
    "## Training on Dataset \"Lotte Crop Color 490x357\""
   ]
  },
  {
   "cell_type": "code",
   "execution_count": 4,
   "metadata": {},
   "outputs": [
    {
     "name": "stdout",
     "output_type": "stream",
     "text": [
      "347.0\n"
     ]
    },
    {
     "ename": "TypeError",
     "evalue": "can't multiply sequence by non-int of type 'float'",
     "output_type": "error",
     "traceback": [
      "\u001b[1;31m---------------------------------------------------------------------------\u001b[0m",
      "\u001b[1;31mTypeError\u001b[0m                                 Traceback (most recent call last)",
      "\u001b[1;32m<ipython-input-4-e0ec4253d6f2>\u001b[0m in \u001b[0;36m<module>\u001b[1;34m\u001b[0m\n\u001b[0;32m     35\u001b[0m     \u001b[0mnumberImagePredict\u001b[0m \u001b[1;33m=\u001b[0m \u001b[0mlen\u001b[0m\u001b[1;33m(\u001b[0m\u001b[0mimagesName\u001b[0m\u001b[1;33m)\u001b[0m\u001b[1;33m/\u001b[0m\u001b[1;36m4\u001b[0m\u001b[1;33m\u001b[0m\u001b[1;33m\u001b[0m\u001b[0m\n\u001b[0;32m     36\u001b[0m     \u001b[0mprint\u001b[0m\u001b[1;33m(\u001b[0m\u001b[0mnumberImagePredict\u001b[0m\u001b[1;33m)\u001b[0m\u001b[1;33m\u001b[0m\u001b[1;33m\u001b[0m\u001b[0m\n\u001b[1;32m---> 37\u001b[1;33m     \u001b[0mselectedImages\u001b[0m \u001b[1;33m=\u001b[0m \u001b[0mrandom\u001b[0m\u001b[1;33m.\u001b[0m\u001b[0msample\u001b[0m\u001b[1;33m(\u001b[0m\u001b[0mimagesName\u001b[0m\u001b[1;33m,\u001b[0m \u001b[0mnumberImagePredict\u001b[0m\u001b[1;33m)\u001b[0m\u001b[1;33m\u001b[0m\u001b[1;33m\u001b[0m\u001b[0m\n\u001b[0m\u001b[0;32m     38\u001b[0m     \u001b[0mselectedImages\u001b[0m \u001b[1;33m=\u001b[0m \u001b[1;33m[\u001b[0m\u001b[0mpathDatasetPredict\u001b[0m \u001b[1;33m+\u001b[0m \u001b[0mel\u001b[0m \u001b[1;32mfor\u001b[0m \u001b[0mel\u001b[0m \u001b[1;32min\u001b[0m \u001b[0mselectedImages\u001b[0m \u001b[1;33m]\u001b[0m\u001b[1;33m\u001b[0m\u001b[1;33m\u001b[0m\u001b[0m\n\u001b[0;32m     39\u001b[0m     \u001b[0mprint\u001b[0m \u001b[1;33m(\u001b[0m\u001b[1;34m\"----Prediction---\"\u001b[0m\u001b[1;33m)\u001b[0m\u001b[1;33m\u001b[0m\u001b[1;33m\u001b[0m\u001b[0m\n",
      "\u001b[1;32mc:\\users\\nico_\\appdata\\local\\programs\\python\\python37\\lib\\random.py\u001b[0m in \u001b[0;36msample\u001b[1;34m(self, population, k)\u001b[0m\n\u001b[0;32m    320\u001b[0m         \u001b[1;32mif\u001b[0m \u001b[1;32mnot\u001b[0m \u001b[1;36m0\u001b[0m \u001b[1;33m<=\u001b[0m \u001b[0mk\u001b[0m \u001b[1;33m<=\u001b[0m \u001b[0mn\u001b[0m\u001b[1;33m:\u001b[0m\u001b[1;33m\u001b[0m\u001b[1;33m\u001b[0m\u001b[0m\n\u001b[0;32m    321\u001b[0m             \u001b[1;32mraise\u001b[0m \u001b[0mValueError\u001b[0m\u001b[1;33m(\u001b[0m\u001b[1;34m\"Sample larger than population or is negative\"\u001b[0m\u001b[1;33m)\u001b[0m\u001b[1;33m\u001b[0m\u001b[1;33m\u001b[0m\u001b[0m\n\u001b[1;32m--> 322\u001b[1;33m         \u001b[0mresult\u001b[0m \u001b[1;33m=\u001b[0m \u001b[1;33m[\u001b[0m\u001b[1;32mNone\u001b[0m\u001b[1;33m]\u001b[0m \u001b[1;33m*\u001b[0m \u001b[0mk\u001b[0m\u001b[1;33m\u001b[0m\u001b[1;33m\u001b[0m\u001b[0m\n\u001b[0m\u001b[0;32m    323\u001b[0m         \u001b[0msetsize\u001b[0m \u001b[1;33m=\u001b[0m \u001b[1;36m21\u001b[0m        \u001b[1;31m# size of a small set minus size of an empty list\u001b[0m\u001b[1;33m\u001b[0m\u001b[1;33m\u001b[0m\u001b[0m\n\u001b[0;32m    324\u001b[0m         \u001b[1;32mif\u001b[0m \u001b[0mk\u001b[0m \u001b[1;33m>\u001b[0m \u001b[1;36m5\u001b[0m\u001b[1;33m:\u001b[0m\u001b[1;33m\u001b[0m\u001b[1;33m\u001b[0m\u001b[0m\n",
      "\u001b[1;31mTypeError\u001b[0m: can't multiply sequence by non-int of type 'float'"
     ]
    }
   ],
   "source": [
    "pathDatasetTrain = \"C:/Users/nico_/Documents/ConvertedImages/Lotte_Crop_Color_490x357/train/\"\n",
    "pathDatasetPredict = \"C:/Users/nico_/Documents/ConvertedImages/Lotte_Crop_Color_490x357/test/\"\n",
    "\n",
    "start_time = time.time()\n",
    "\n",
    "imagesName = os.listdir(pathDatasetTrain)\n",
    "\n",
    "# Parameters\n",
    "numberImageTrain = 200#len(imagesName)\n",
    "component  = 3 # color component\n",
    "imageW = 100\n",
    "imageH = 50\n",
    "inputCountPerSample = (imageW * imageH * component)\n",
    "alpha = 0.01\n",
    "epochs = 10\n",
    "display = 1\n",
    "pmcStruct = [inputCountPerSample, 64, 64, 32, 32, 1]\n",
    "arrStruct = (c_int * len(pmcStruct))(*pmcStruct)\n",
    "\n",
    "pArrayWeight = createPMCModel(myDll, pmcStruct, arrStruct)\n",
    "\n",
    "for i in range(0, 20):\n",
    "    start_time = time.time()\n",
    "    selectedImages = random.sample(imagesName, numberImageTrain)\n",
    "    selectedImages = convertListToString(selectedImages, pathDatasetTrain)\n",
    "\n",
    "    pMatrixX, pMatrixY = prepareDataset(myDll, selectedImages, imageW, imageH, numberImageTrain, component)\n",
    "\n",
    "    # Fit PMC with regression version\n",
    "    fitPMCRegression( myDll, pArrayWeight, pMatrixX, pMatrixY, numberImageTrain, alpha, epochs, display)\n",
    "\n",
    "    savePMCInCSV(myDll,(pathSave + \"PMC_Lotte_Crop_Color_490x357_v\" + str(i) + \".csv\"), pArrayWeight)\n",
    "\n",
    "    imagesName = os.listdir(pathDatasetPredict)\n",
    "    numberImagePredict = len(imagesName)/4\n",
    "    print(numberImagePredict)\n",
    "    selectedImages = random.sample(imagesName, numberImagePredict)\n",
    "    selectedImages = [pathDatasetPredict + el for el in selectedImages ]\n",
    "    print (\"----Prediction---\")\n",
    "    predictResponse = predictPMCRegressionAverage(myDll, selectedImages, pArrayWeight, imageW, imageH, component)\n",
    "    print(\"Moyenne erreurs² : %s\" % predictResponse )\n",
    "    print(\"Moyenne erreurs : %s\" % predictResponse**0.5 )\n",
    "    print(\"--- %s seconds ---\" % (time.time() - start_time))\n",
    "deletePMCModel( myDll, pArrayWeight )"
   ]
  },
  {
   "cell_type": "markdown",
   "metadata": {},
   "source": [
    "## Training on Dataset \"Big Dataset Color 100x50\""
   ]
  },
  {
   "cell_type": "code",
   "execution_count": null,
   "metadata": {},
   "outputs": [
    {
     "name": "stdout",
     "output_type": "stream",
     "text": [
      "1205\n",
      "----Prediction---\n",
      "Moyenne erreurs² : 381.1726141078838\n",
      "Moyenne erreurs : 19.523642439562444\n",
      "--- 11.97691535949707 seconds ---\n",
      "1205\n",
      "----Prediction---\n",
      "Moyenne erreurs² : 438.1585062240664\n",
      "Moyenne erreurs : 20.932236054088115\n",
      "--- 13.62953782081604 seconds ---\n",
      "1205\n",
      "----Prediction---\n",
      "Moyenne erreurs² : 584.1427385892116\n",
      "Moyenne erreurs : 24.16904504917833\n",
      "--- 13.604649782180786 seconds ---\n",
      "1205\n",
      "----Prediction---\n",
      "Moyenne erreurs² : 428.5900414937759\n",
      "Moyenne erreurs : 20.702416320173253\n",
      "--- 13.45290732383728 seconds ---\n",
      "1205\n",
      "----Prediction---\n",
      "Moyenne erreurs² : 532.9526970954357\n",
      "Moyenne erreurs : 23.085768280380787\n",
      "--- 13.998613595962524 seconds ---\n",
      "1205\n",
      "----Prediction---\n",
      "Moyenne erreurs² : 399.08298755186723\n",
      "Moyenne erreurs : 19.977061534466657\n",
      "--- 13.56228494644165 seconds ---\n",
      "1205\n",
      "----Prediction---\n",
      "Moyenne erreurs² : 424.5668049792531\n",
      "Moyenne erreurs : 20.605018926932658\n",
      "--- 13.58665132522583 seconds ---\n"
     ]
    }
   ],
   "source": [
    "pathDatasetTrain = \"C:/Users/nico_/Documents/ConvertedImages/Bigdataset_Color_100x50/train/\"\n",
    "pathDatasetPredict = \"C:/Users/nico_/Documents/ConvertedImages/Bigdataset_Color_100x50/test/\"\n",
    "\n",
    "\n",
    "start_time = time.time()\n",
    "\n",
    "imagesName = os.listdir(pathDatasetTrain)\n",
    "\n",
    "# Parameters\n",
    "numberImageTrain = 200#len(imagesName)\n",
    "component  = 3 # color component\n",
    "imageW = 100\n",
    "imageH = 50\n",
    "inputCountPerSample = (imageW * imageH * component)\n",
    "alpha = 0.01\n",
    "epochs = 10\n",
    "display = 1\n",
    "pmcStruct = [inputCountPerSample, 64, 64, 32, 32, 1]\n",
    "arrStruct = (c_int * len(pmcStruct))(*pmcStruct)\n",
    "\n",
    "pArrayWeight = createPMCModel(myDll, pmcStruct, arrStruct)\n",
    "\n",
    "for i in range(0, 20):\n",
    "    start_time = time.time()\n",
    "    selectedImages = random.sample(imagesName, numberImageTrain)\n",
    "    selectedImages = convertListToString(selectedImages, pathDatasetTrain)\n",
    "\n",
    "    pMatrixX, pMatrixY = prepareDataset(myDll, selectedImages, imageW, imageH, numberImageTrain, component)\n",
    "\n",
    "    # Fit PMC with regression version\n",
    "    fitPMCRegression( myDll, pArrayWeight, pMatrixX, pMatrixY, numberImageTrain, alpha, epochs, display)\n",
    "\n",
    "    savePMCInCSV(myDll,(pathSave + \"PMC_Bigdataset_Color_100x50_v\" + str(i) + \".csv\"), pArrayWeight)\n",
    "\n",
    "    imagesName = os.listdir(pathDatasetPredict)\n",
    "    numberImagePredict = int(len(imagesName)/4)\n",
    "    print(numberImagePredict)\n",
    "    selectedImages = random.sample(imagesName, numberImagePredict)\n",
    "    selectedImages = [pathDatasetPredict + el for el in selectedImages ]\n",
    "    print (\"----Prediction---\")\n",
    "    predictResponse = predictPMCRegressionAverage(myDll, selectedImages, pArrayWeight, imageW, imageH, component)\n",
    "    print(\"Moyenne erreurs² : %s\" % predictResponse )\n",
    "    print(\"Moyenne erreurs : %s\" % predictResponse**0.5 )\n",
    "    print(\"--- %s seconds ---\" % (time.time() - start_time))\n",
    "deletePMCModel( myDll, pArrayWeight )"
   ]
  },
  {
   "cell_type": "code",
   "execution_count": null,
   "metadata": {},
   "outputs": [],
   "source": []
  }
 ],
 "metadata": {
  "kernelspec": {
   "display_name": "Python 3",
   "language": "python",
   "name": "python3"
  },
  "language_info": {
   "codemirror_mode": {
    "name": "ipython",
    "version": 3
   },
   "file_extension": ".py",
   "mimetype": "text/x-python",
   "name": "python",
   "nbconvert_exporter": "python",
   "pygments_lexer": "ipython3",
   "version": "3.7.3"
  }
 },
 "nbformat": 4,
 "nbformat_minor": 2
}
