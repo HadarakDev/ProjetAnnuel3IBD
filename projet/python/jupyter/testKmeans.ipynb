{
 "cells": [
  {
   "cell_type": "markdown",
   "metadata": {},
   "source": [
    "## Kmeans Test"
   ]
  },
  {
   "cell_type": "code",
   "execution_count": 1,
   "metadata": {},
   "outputs": [],
   "source": [
    "import matplotlib.pyplot as plt\n",
    "import numpy as np\n",
    "from ctypes import *\n",
    "from sklearn.datasets import make_blobs\n",
    "from mpl_toolkits.mplot3d import Axes3D\n",
    "\n",
    "%run \"~\\Documents\\GitHub\\ProjetAnnuel3IBD\\projet\\python\\encapsulate\\encapsulateRBF.py\"\n",
    "%run \"~\\Documents\\GitHub\\ProjetAnnuel3IBD\\projet\\python\\encapsulate\\encapsulateSharedMethods.py\"\n",
    "pathDLL = \"C:/Users/nico_/Documents/GitHub/ProjetAnnuel3IBD/projet/MLAlgorithms/ML_Library/x64/Release/ML_Library.dll\"\n",
    "myDll = CDLL(pathDLL)"
   ]
  },
  {
   "cell_type": "markdown",
   "metadata": {},
   "source": [
    "- <font color=green>Simple case</font>"
   ]
  },
  {
   "cell_type": "code",
   "execution_count": 6,
   "metadata": {},
   "outputs": [
    {
     "name": "stdout",
     "output_type": "stream",
     "text": [
      "[[2.  2. ]\n",
      " [6.5 6.5]]\n"
     ]
    },
    {
     "data": {
      "image/png": "[encoded data removed]",
      "text/plain": [
       "<Figure size 432x288 with 1 Axes>"
      ]
     },
     "metadata": {
      "needs_background": "light"
     },
     "output_type": "display_data"
    }
   ],
   "source": [
    "Xnp = np.array([ [1, 3], [3, 1], [3, 3], [1, 1], [6, 7], [7, 6], [6, 6], [7, 7]])\n",
    "Ynp = np.array([ 1, 1, 1, 1, 1, 1, 1, 1])\n",
    "X = matrixToArray(Xnp.tolist())\n",
    "Y = Ynp.tolist()\n",
    "\n",
    "# Load Matrix X\n",
    "pMatrixX = loadTestCase(myDll, X, Xnp.shape[0], Xnp.shape[1], 0)\n",
    "\n",
    "plot_dataset(Xnp, Ynp)\n",
    "\n",
    "# number of centroid\n",
    "k = 2\n",
    "\n",
    "\n",
    "myDll.kMeans.argtypes = [ c_void_p, c_int, c_int]\n",
    "myDll.kMeans.restype = c_void_p\n",
    "centroids = myDll.kMeans(pMatrixX, k, 50)\n",
    "\n",
    "\n",
    "lenResult =  len(Xnp[0])\n",
    "myDll.matrixToNumpy.argtypes = [c_void_p, c_int, c_int]\n",
    "myDll.matrixToNumpy.restype = ndpointer(dtype=c_double, shape=(lenResult * k,))\n",
    "res = myDll.matrixToNumpy(centroids, k, lenResult)\n",
    "\n",
    "res = np.reshape(res ,(k, 2))\n",
    "print(res)\n",
    "\n",
    "for i in range(0, np.size(res,0)):\n",
    "    plt.scatter(res[i][0], res[i][1], color='#bbdefb')\n"
   ]
  },
  {
   "cell_type": "code",
   "execution_count": 16,
   "metadata": {},
   "outputs": [
    {
     "name": "stdout",
     "output_type": "stream",
     "text": [
      "[-8.09394641 -3.50429241 -7.09123913 -8.14246823 -1.61359819  4.42789844]\n",
      "[[-8.09394641 -3.50429241]\n",
      " [-7.09123913 -8.14246823]\n",
      " [-1.61359819  4.42789844]]\n"
     ]
    },
    {
     "data": {
      "image/png": "[encoded data removed]",
      "text/plain": [
       "<Figure size 432x288 with 1 Axes>"
      ]
     },
     "metadata": {
      "needs_background": "light"
     },
     "output_type": "display_data"
    }
   ],
   "source": [
    "Xnp, ynp = make_blobs(centers=4, n_samples=200, cluster_std=0.4 ,random_state=1)\n",
    "X = matrixToArray(Xnp.tolist())\n",
    "\n",
    "\n",
    "# Load Matrix X\n",
    "pMatrixX = loadTestCase(myDll, X, Xnp.shape[0], Xnp.shape[1], 0)\n",
    "\n",
    "plot_dataset(Xnp, ynp)\n",
    "\n",
    "# number of centroid\n",
    "k = 3\n",
    "\n",
    "myDll.kMeans.argtypes = [ c_void_p, c_int, c_int]\n",
    "myDll.kMeans.restype = c_void_p\n",
    "centroids = myDll.kMeans(pMatrixX, k, 100)\n",
    "\n",
    "lenResult = len(Xnp[0])\n",
    "myDll.matrixToNumpy.argtypes = [c_void_p, c_int, c_int]\n",
    "myDll.matrixToNumpy.restype = ndpointer(dtype=c_double, shape=(lenResult * k,))\n",
    "res = myDll.matrixToNumpy(centroids, k, lenResult)\n",
    "\n",
    "res = np.reshape(res ,(k, 2))\n",
    "print(res)\n",
    "\n",
    "for i in range(0, np.size(res,0)):\n",
    "    plt.scatter(res[i][0], res[i][1], color='red',zorder=10)\n"
   ]
  },
  {
   "cell_type": "code",
   "execution_count": null,
   "metadata": {},
   "outputs": [],
   "source": []
  }
 ],
 "metadata": {
  "kernelspec": {
   "display_name": "Python 3",
   "language": "python",
   "name": "python3"
  },
  "language_info": {
   "codemirror_mode": {
    "name": "ipython",
    "version": 3
   },
   "file_extension": ".py",
   "mimetype": "text/x-python",
   "name": "python",
   "nbconvert_exporter": "python",
   "pygments_lexer": "ipython3",
   "version": "3.7.3"
  }
 },
 "nbformat": 4,
 "nbformat_minor": 2
}
