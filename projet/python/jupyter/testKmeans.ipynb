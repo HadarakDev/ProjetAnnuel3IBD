{
 "cells": [
  {
   "cell_type": "markdown",
   "metadata": {},
   "source": [
    "## Kmeans Test"
   ]
  },
  {
   "cell_type": "code",
   "execution_count": null,
   "metadata": {},
   "outputs": [],
   "source": [
    "import matplotlib.pyplot as plt\n",
    "import numpy as np\n",
    "from ctypes import *\n",
    "from mpl_toolkits.mplot3d import Axes3D\n",
    "\n",
    "%run \"~\\Documents\\GitHub\\ProjetAnnuel3IBD\\projet\\python\\encapsulate\\encapsulateRBF.py\"\n",
    "%run \"~\\Documents\\GitHub\\ProjetAnnuel3IBD\\projet\\python\\encapsulate\\encapsulateSharedMethods.py\"\n",
    "pathDLL = \"C:/Users/nico_/Documents/GitHub/ProjetAnnuel3IBD/projet/MLAlgorithms/ML_Library/x64/Release/ML_Library.dll\"\n",
    "myDll = CDLL(pathDLL)"
   ]
  },
  {
   "cell_type": "code",
   "execution_count": null,
   "metadata": {},
   "outputs": [],
   "source": [
    "Xnp = np.concatenate([np.random.random((50,2)) * 0.9 + np.array([1, 1]), np.random.random((50,2)) * 0.9 + np.array([2, 2])])\n",
    "Ynp = np.concatenate([np.ones((50, 1)), np.ones((50, 1)) * -1.0])\n",
    "Ynp = Ynp.flatten()\n",
    "\n",
    "X = matrixToArray(Xnp.tolist())\n",
    "Y = Ynp.tolist()\n",
    "\n",
    "# Load Matrix X\n",
    "pMatrixX = loadTestCase(myDll, X, Xnp.shape[0], Xnp.shape[1], 1)\n",
    "\n",
    "myDll.kMeans.argtypes = [ c_void_p, ]\n",
    "myDll.kMeans(pMatrixX, 10, -1)\n",
    "MatrixXd* kMeans(MatrixXd X, int k, int it)"
   ]
  }
 ],
 "metadata": {
  "kernelspec": {
   "display_name": "Python 3",
   "language": "python",
   "name": "python3"
  },
  "language_info": {
   "codemirror_mode": {
    "name": "ipython",
    "version": 3
   },
   "file_extension": ".py",
   "mimetype": "text/x-python",
   "name": "python",
   "nbconvert_exporter": "python",
   "pygments_lexer": "ipython3",
   "version": "3.7.3"
  }
 },
 "nbformat": 4,
 "nbformat_minor": 2
}
