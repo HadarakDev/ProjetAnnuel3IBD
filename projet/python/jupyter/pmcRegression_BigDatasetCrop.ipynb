{
 "cells": [
  {
   "cell_type": "code",
   "execution_count": 1,
   "metadata": {},
   "outputs": [],
   "source": [
    "import numpy as np\n",
    "import os\n",
    "import matplotlib.pyplot as plt\n",
    "from mpl_toolkits.mplot3d import Axes3D\n",
    "import numpy as np\n",
    "import time\n",
    "import random\n",
    "from ctypes import *\n",
    "\n",
    "%run \"~\\Documents\\GitHub\\ProjetAnnuel3IBD\\projet\\python\\encapsulate\\encapsulateSharedMethods.py\"\n",
    "%run \"~\\Documents\\GitHub\\ProjetAnnuel3IBD\\projet\\python\\encapsulate\\encapsulatePMC.py\"\n",
    "pathDLL = \"C:/Users/nico_/Documents/GitHub/ProjetAnnuel3IBD/projet/MLAlgorithms/ML_Library/x64/Release/ML_Library.dll\"\n",
    "myDll = CDLL(pathDLL)\n",
    "\n",
    "pathSave = \"C:/Users/nico_/Documents/GitHub/projetAnnuel3IBD/projet/models/\""
   ]
  },
  {
   "cell_type": "markdown",
   "metadata": {},
   "source": [
    "## Training on Dataset \"Big Dataset Crop Color 50x50\""
   ]
  },
  {
   "cell_type": "code",
   "execution_count": 2,
   "metadata": {},
   "outputs": [
    {
     "name": "stdout",
     "output_type": "stream",
     "text": [
      "age :  20 / predicted :  [0.14527732]\n",
      "age :  26 / predicted :  [0.26143004]\n",
      "age :  27 / predicted :  [0.24269373]\n",
      "age :  18 / predicted :  [0.14213731]\n",
      "age :  27 / predicted :  [0.27698333]\n",
      "age :  50 / predicted :  [0.40560165]\n",
      "age :  27 / predicted :  [0.2529986]\n",
      "age :  42 / predicted :  [0.32841199]\n",
      "age :  65 / predicted :  [0.4635986]\n",
      "age :  13 / predicted :  [0.07691952]\n",
      "Moyenne erreurs Train: 34.99285641384538\n",
      "Moyenne erreurs Test: 38.45910355884016\n",
      "--- 7.388653039932251 seconds ---\n",
      "age :  20 / predicted :  [0.18480886]\n",
      "age :  26 / predicted :  [0.20731793]\n",
      "age :  27 / predicted :  [0.25065173]\n",
      "age :  18 / predicted :  [0.16790908]\n",
      "age :  27 / predicted :  [0.27219862]\n",
      "age :  50 / predicted :  [0.46011013]\n",
      "age :  27 / predicted :  [0.24969741]\n",
      "age :  42 / predicted :  [0.44668867]\n",
      "age :  65 / predicted :  [0.55063704]\n",
      "age :  13 / predicted :  [0.14498227]\n",
      "Moyenne erreurs Train: 34.80804504708645\n",
      "Moyenne erreurs Test: 38.18174510370089\n",
      "--- 9.041128873825073 seconds ---\n"
     ]
    }
   ],
   "source": [
    "pathDatasetTrain = \"C:/Users/nico_/Documents/ConvertedImages/Bigdataset_Crop_Color_50x50/train/\"\n",
    "pathDatasetPredict = \"C:/Users/nico_/Documents/ConvertedImages/Bigdataset_Crop_Color_50x50/test/\"\n",
    "\n",
    "start_time = time.time()\n",
    "\n",
    "imagesNameTrain = os.listdir(pathDatasetTrain)\n",
    "imagesNamePredict = os.listdir(pathDatasetPredict)\n",
    "\n",
    "# Parameters\n",
    "numberImageTrain = 10#len(imagesNameTrain)\n",
    "component  = 3 # color component\n",
    "imageW = 50\n",
    "imageH = 50\n",
    "inputCountPerSample = (imageW * imageH * component)\n",
    "alpha = 0.01\n",
    "epochs = 1000\n",
    "display = 100\n",
    "dividedPixel = 1\n",
    "pmcStruct = [inputCountPerSample, 16, 1]\n",
    "arrStruct = (c_int * len(pmcStruct))(*pmcStruct)\n",
    "\n",
    "#numberImageTrainForDisplay = len(imagesNameTrain)\n",
    "\n",
    "\n",
    "selectedImagesTrain = random.sample(imagesNameTrain, numberImageTrain)\n",
    "selectedImagesTrainForDisplay = [pathDatasetTrain + el for el in selectedImagesTrain ] \n",
    "selectedImagesTrain = convertListToString(selectedImagesTrain, pathDatasetTrain)\n",
    "\n",
    "pArrayWeight = createPMCModel(myDll, pmcStruct, arrStruct)\n",
    "\n",
    "for i in range(0, 2):\n",
    "    start_time = time.time()\n",
    "\n",
    "    pMatrixX, pMatrixY = prepareDataset(myDll, selectedImagesTrain, imageW, imageH, numberImageTrain, component, dividedPixel )\n",
    "\n",
    "    # Fit PMC with regression version\n",
    "    fitPMCRegression( myDll, pArrayWeight, pMatrixX, pMatrixY, numberImageTrain, alpha, epochs, display)\n",
    "\n",
    "    numberImagePredict = len(imagesNamePredict)\n",
    "    selectedImagesPredict = random.sample(imagesNamePredict, numberImagePredict)\n",
    "    selectedImagesPredict = [pathDatasetPredict + el for el in selectedImagesPredict ]    \n",
    "    predictResponseTest = predictPMCRegressionAverage(myDll, selectedImagesPredict, pArrayWeight, imageW, imageH, component, 0, dividedPixel)\n",
    "     \n",
    "\n",
    "    predictResponseTrain = predictPMCRegressionAverage(myDll, selectedImagesTrainForDisplay, pArrayWeight, imageW, imageH, component, 1, dividedPixel)\n",
    "    \n",
    "    #savePMCInCSV(myDll, (pathSave + \"PMC_Bigdataset_Crop_Color_50x50_nb_\"+ str(numberImageTrain) + \"_s_\"+ str(pmcStruct) + \"_pixel_\" + str(dividedPixel) \\\n",
    "                               #+ \"_p_\" + str(round(predictResponseTest**0.5, 3)) + \".csv\"), pArrayWeight)\n",
    "\n",
    "    print(\"Moyenne erreurs Train: %s\" % predictResponseTrain**0.5 )\n",
    "    print(\"Moyenne erreurs Test: %s\" % predictResponseTest**0.5 )\n",
    "    print(\"--- %s seconds ---\" % (time.time() - start_time))\n",
    "deletePMCModel( myDll, pArrayWeight )"
   ]
  },
  {
   "cell_type": "code",
   "execution_count": null,
   "metadata": {},
   "outputs": [],
   "source": []
  }
 ],
 "metadata": {
  "kernelspec": {
   "display_name": "Python 3",
   "language": "python",
   "name": "python3"
  },
  "language_info": {
   "codemirror_mode": {
    "name": "ipython",
    "version": 3
   },
   "file_extension": ".py",
   "mimetype": "text/x-python",
   "name": "python",
   "nbconvert_exporter": "python",
   "pygments_lexer": "ipython3",
   "version": "3.7.3"
  }
 },
 "nbformat": 4,
 "nbformat_minor": 2
}
