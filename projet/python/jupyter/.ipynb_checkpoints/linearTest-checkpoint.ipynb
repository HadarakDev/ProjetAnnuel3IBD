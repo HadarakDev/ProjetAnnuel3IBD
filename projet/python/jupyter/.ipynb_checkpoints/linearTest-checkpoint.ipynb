{
 "cells": [
  {
   "cell_type": "markdown",
   "metadata": {},
   "source": [
    "## Linear Test Cases \n"
   ]
  },
  {
   "cell_type": "code",
   "execution_count": 3,
   "metadata": {},
   "outputs": [],
   "source": [
    "import matplotlib.pyplot as plt\n",
    "import numpy as np\n",
    "from ctypes import *\n",
    "\n",
    "%run \"~\\Documents\\GitHub\\ProjetAnnuel3IBD\\projet\\python\\encapsulate\\encapsulateLinear.py\"\n",
    "%run \"~\\Documents\\GitHub\\ProjetAnnuel3IBD\\projet\\python\\encapsulate\\encapsulateSharedMethods.py\"\n",
    "pathDLL = \"C:/Users/nico_/Documents/GitHub/ProjetAnnuel3IBD/projet/MLAlgorithms/ML_Library/x64/Release/ML_Library.dll\"\n",
    "myDll = CDLL(pathDLL)"
   ]
  },
  {
   "cell_type": "markdown",
   "metadata": {},
   "source": [
    "# Classification\n",
    "linear Simple"
   ]
  },
  {
   "cell_type": "code",
   "execution_count": 4,
   "metadata": {},
   "outputs": [
    {
     "data": {
      "image/png": "[encoded data removed]",
      "text/plain": [
       "<Figure size 432x288 with 1 Axes>"
      ]
     },
     "metadata": {
      "needs_background": "light"
     },
     "output_type": "display_data"
    },
    {
     "data": {
      "text/plain": [
       "<Figure size 432x288 with 0 Axes>"
      ]
     },
     "metadata": {},
     "output_type": "display_data"
    }
   ],
   "source": [
    "# Points Data\n",
    "Xnp = np.array([ [1, 5], [2, 3], [3, 3] ])\n",
    "Ynp = np.array([ 1, -1, -1 ])\n",
    "X = matrixToArray(Xnp.tolist())\n",
    "Y = Ynp.tolist()\n",
    "\n",
    "# Parameters\n",
    "alpha = 0.01\n",
    "epochs = 10000\n",
    "display = -1\n",
    "\n",
    "pArrayWeight = createLinearModel(myDll, Xnp.shape[1])\n",
    "\n",
    "pMatrixX = loadTestCase(myDll, X, Xnp.shape[0],  Xnp.shape[1], 1)\n",
    "pMatrixY = loadTestCase(myDll, Y, Ynp.shape[0], 1, 0)\n",
    "fitLinearClassification(myDll, pArrayWeight, pMatrixX, pMatrixY, Xnp.shape[0], Xnp.shape[1], alpha, epochs, display)\n",
    "\n",
    "X1 = np.linspace(0, 5, 30)\n",
    "X2 = np.linspace(0, 5, 30)\n",
    "\n",
    "displayLinearResult(myDll, pArrayWeight, X1, X2)\n",
    "\n",
    "# Display data points\n",
    "plt.scatter(Xnp[0, 0], Xnp[0, 1], color='blue')\n",
    "plt.scatter(Xnp[1:3,0], Xnp[1:3,1], color='red')\n",
    "plt.show()\n",
    "plt.clf()\n",
    "\n",
    "# delete linear Model (free)\n",
    "deleteLinearModel( myDll, pArrayWeight )\n",
    "\n"
   ]
  },
  {
   "cell_type": "raw",
   "metadata": {},
   "source": [
    "Finir Classification et regression Lineaire\n"
   ]
  },
  {
   "cell_type": "code",
   "execution_count": null,
   "metadata": {},
   "outputs": [],
   "source": []
  },
  {
   "cell_type": "code",
   "execution_count": null,
   "metadata": {},
   "outputs": [],
   "source": []
  }
 ],
 "metadata": {
  "kernelspec": {
   "display_name": "Python 3",
   "language": "python",
   "name": "python3"
  },
  "language_info": {
   "codemirror_mode": {
    "name": "ipython",
    "version": 3
   },
   "file_extension": ".py",
   "mimetype": "text/x-python",
   "name": "python",
   "nbconvert_exporter": "python",
   "pygments_lexer": "ipython3",
   "version": "3.7.3"
  }
 },
 "nbformat": 4,
 "nbformat_minor": 2
}
