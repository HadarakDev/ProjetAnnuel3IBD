{
 "cells": [
  {
   "cell_type": "code",
   "execution_count": 1,
   "metadata": {},
   "outputs": [],
   "source": [
    "import numpy as np\n",
    "import os\n",
    "import matplotlib.pyplot as plt\n",
    "from mpl_toolkits.mplot3d import Axes3D\n",
    "import numpy as np\n",
    "import time\n",
    "import random\n",
    "from ctypes import *\n",
    "\n",
    "%run \"~\\Documents\\GitHub\\ProjetAnnuel3IBD\\projet\\python\\encapsulate\\encapsulateSharedMethods.py\"\n",
    "%run \"~\\Documents\\GitHub\\ProjetAnnuel3IBD\\projet\\python\\encapsulate\\encapsulatePMC.py\"\n",
    "pathDLL = \"C:/Users/nico_/Documents/GitHub/ProjetAnnuel3IBD/projet/MLAlgorithms/ML_Library/x64/Release/ML_Library.dll\"\n",
    "myDll = CDLL(pathDLL)\n",
    "\n",
    "pathSave = \"C:/Users/nico_/Documents/GitHub/projetAnnuel3IBD/projet/models/\""
   ]
  },
  {
   "cell_type": "markdown",
   "metadata": {},
   "source": [
    "## Training on Dataset \"Big Dataset Crop Color 50x50\""
   ]
  },
  {
   "cell_type": "code",
   "execution_count": null,
   "metadata": {},
   "outputs": [],
   "source": [
    "pathDatasetTrain = \"C:/Users/nico_/Documents/ConvertedImages/Bigdataset_Crop_Color_50x50/train/\"\n",
    "pathDatasetPredict = \"C:/Users/nico_/Documents/ConvertedImages/Bigdataset_Crop_Color_50x50/test/\"\n",
    "\n",
    "start_time = time.time()\n",
    "\n",
    "imagesNameTrain = os.listdir(pathDatasetTrain)\n",
    "imagesNamePredict = os.listdir(pathDatasetPredict)\n",
    "\n",
    "# Parameters\n",
    "numberImageTrain = 1000 #len(imagesNameTrain)\n",
    "component  = 3 # color component\n",
    "imageW = 50\n",
    "imageH = 50\n",
    "inputCountPerSample = (imageW * imageH * component)\n",
    "alpha = 0.01\n",
    "epochs = 300\n",
    "display = 10\n",
    "dividedPixel = 1\n",
    "pmcStruct = [inputCountPerSample, 16, 8, 1]\n",
    "arrStruct = (c_int * len(pmcStruct))(*pmcStruct)\n",
    "\n",
    "#numberImageTrainForDisplay = len(imagesNameTrain)\n",
    "selectedImagesTrain = random.sample(imagesNameTrain, numberImageTrain)\n",
    "selectedImagesTrainForDisplay = [pathDatasetTrain + el for el in selectedImagesTrain ] \n",
    "selectedImagesTrain = convertListToString(selectedImagesTrain, pathDatasetTrain)\n",
    "pArrayWeight = createPMCModel(myDll, pmcStruct, arrStruct)\n",
    "\n",
    "for i in range(0, 20):\n",
    "    start_time = time.time()\n",
    "    \n",
    "    pMatrixX, pMatrixY = prepareDataset(myDll, selectedImagesTrain, imageW, imageH, numberImageTrain, component, dividedPixel, 0, 116 )\n",
    "\n",
    "    # Fit PMC with regression version\n",
    "    fitPMCRegression( myDll, pArrayWeight, pMatrixX, pMatrixY, numberImageTrain, alpha, epochs, display)\n",
    "\n",
    "    \n",
    "    numberImagePredict = len(imagesNamePredict)\n",
    "    selectedImagesPredict = random.sample(imagesNamePredict, numberImagePredict)\n",
    "    selectedImagesPredict = [pathDatasetPredict + el for el in selectedImagesPredict ]    \n",
    "    predictResponseTest = predictPMCRegressionAverageWithMinMax(myDll, selectedImagesPredict, pArrayWeight, imageW, imageH, component, 0, dividedPixel, 0, 116)\n",
    "     \n",
    "\n",
    "    predictResponseTrain = predictPMCRegressionAverageWithMinMax(myDll, selectedImagesTrainForDisplay, pArrayWeight, imageW, imageH, component, 1, dividedPixel, 0, 116)\n",
    "    \n",
    "    #savePMCInCSV(myDll, (pathSave + \"PMC_Bigdataset_Crop_Color_50x50_nb_\"+ str(numberImageTrain) + \"_s_\"+ str(pmcStruct) + \"_pixel_\" + str(dividedPixel) \\\n",
    "                               #+ \"_p_\" + str(round(predictResponseTest**0.5, 3)) + \".csv\"), pArrayWeight)\n",
    "\n",
    "    print(\"Moyenne erreurs Train: %s\" % predictResponseTrain**0.5 )\n",
    "    print(\"Moyenne erreurs Test: %s\" % predictResponseTest**0.5 )\n",
    "    print(\"--- %s seconds ---\" % (time.time() - start_time))\n",
    "deletePMCModel( myDll, pArrayWeight )"
   ]
  },
  {
   "cell_type": "code",
   "execution_count": null,
   "metadata": {},
   "outputs": [],
   "source": []
  },
  {
   "cell_type": "code",
   "execution_count": null,
   "metadata": {},
   "outputs": [],
   "source": []
  },
  {
   "cell_type": "code",
   "execution_count": null,
   "metadata": {},
   "outputs": [],
   "source": []
  }
 ],
 "metadata": {
  "kernelspec": {
   "display_name": "Python 3",
   "language": "python",
   "name": "python3"
  },
  "language_info": {
   "codemirror_mode": {
    "name": "ipython",
    "version": 3
   },
   "file_extension": ".py",
   "mimetype": "text/x-python",
   "name": "python",
   "nbconvert_exporter": "python",
   "pygments_lexer": "ipython3",
   "version": "3.7.3"
  }
 },
 "nbformat": 4,
 "nbformat_minor": 2
}
