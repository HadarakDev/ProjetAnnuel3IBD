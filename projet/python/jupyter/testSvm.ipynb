{
 "cells": [
  {
   "cell_type": "code",
   "execution_count": null,
   "metadata": {},
   "outputs": [],
   "source": [
    "import numpy as np\n",
    "import cvxopt.base\n",
    "import matplotlib.pyplot as plt\n",
    "from mpl_toolkits.mplot3d import Axes3D\n",
    "import numpy as np\n",
    "from ctypes import *\n",
    "\n",
    "%run \"~\\Documents\\GitHub\\ProjetAnnuel3IBD\\projet\\python\\encapsulate\\encapsulateSharedMethods.py\"\n",
    "pathDLL = \"C:/Users/nico_/Documents/GitHub/ProjetAnnuel3IBD/projet/MLAlgorithms/ML_Library/x64/Release/ML_Library.dll\"\n",
    "myDll = CDLL(pathDLL)"
   ]
  },
  {
   "cell_type": "code",
   "execution_count": null,
   "metadata": {},
   "outputs": [],
   "source": [
    "\n",
    "\n",
    "def getAlpha(bigMatrix, Y):\n",
    "# Define problem data\n",
    "    q = np.ones(bigMatrix.shape[0])\n",
    "    q = cvxopt.matrix(-q)\n",
    "\n",
    "    n = bigMatrix.shape[0]\n",
    "\n",
    "    bigMatrix = cvxopt.matrix(bigMatrix)\n",
    "    A = cvxopt.matrix(Y.T, (1, n))\n",
    "\n",
    "    b = cvxopt.matrix(0.0)\n",
    "    G = cvxopt.matrix(np.diag(np.ones(n) * -1.0))\n",
    "    h = cvxopt.matrix(np.zeros(n))\n",
    "    cvxopt.solvers.options['show_progress'] = False\n",
    "    solution = cvxopt.solvers.qp(bigMatrix, q, G, h, A, b)\n",
    "    alphas = np.ravel(solution['x'])\n",
    "    return alphas\n",
    "\n",
    "def getBigMatrix(X, Y):\n",
    "    bigMatrix = np.empty(shape=(X.shape[0], X.shape[0]))\n",
    "    for i in range(0, X.shape[0]):\n",
    "        for j in range(0, X.shape[0]):\n",
    "            bigMatrix[i][j] = np.dot(X[i],np.transpose(X[j])) * (Y[i] * Y[j])\n",
    "    return bigMatrix\n",
    "\n"
   ]
  },
  {
   "cell_type": "code",
   "execution_count": null,
   "metadata": {},
   "outputs": [],
   "source": [
    "Y = [ 1, 1, -1, -1, -1]\n",
    "Xnp = np.array([ [1, 1], [2, 1], [2, 2], [4, 1], [4, 4]], dtype=float)\n",
    "X = Xnp.flatten().tolist()\n",
    "Ynp = np.array(Y, dtype=float)\n",
    "\n",
    "bigMatrix = getBigMatrix(Xnp, Ynp)\n",
    "alpha = getAlpha(bigMatrix, Ynp)\n",
    "\n",
    "# Load Matrix X\n",
    "pMatrixX = loadTestCase(myDll, X, Xnp.shape[0], Xnp.shape[1], 0)\n",
    "\n",
    "# Load Matrix Y\n",
    "pMatrixY = loadTestCase(myDll, Y, Ynp.shape[0], 1, 0)\n",
    "\n",
    "alphaVector = datasetToVector(myDll,alpha, 0)\n",
    "myDll.fitSvm.argtypes = [c_void_p, c_void_p, c_void_p]\n",
    "myDll.fitSvm(pMatrixX, pMatrixY, alphaVector)"
   ]
  }
 ],
 "metadata": {
  "kernelspec": {
   "display_name": "Python 3",
   "language": "python",
   "name": "python3"
  },
  "language_info": {
   "codemirror_mode": {
    "name": "ipython",
    "version": 3
   },
   "file_extension": ".py",
   "mimetype": "text/x-python",
   "name": "python",
   "nbconvert_exporter": "python",
   "pygments_lexer": "ipython3",
   "version": "3.7.3"
  }
 },
 "nbformat": 4,
 "nbformat_minor": 2
}
