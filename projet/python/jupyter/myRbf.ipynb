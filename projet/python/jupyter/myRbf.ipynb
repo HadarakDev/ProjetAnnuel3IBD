{
 "cells": [
  {
   "cell_type": "code",
   "execution_count": null,
   "metadata": {},
   "outputs": [],
   "source": [
    "import random, os, time\n",
    "import matplotlib.pyplot as plt\n",
    "import numpy as np\n",
    "from ctypes import *\n",
    "from mpl_toolkits.mplot3d import Axes3D\n",
    "\n",
    "%run \"C:\\Users\\minet\\notebook\\python\\encapsulate\\encapsulateRBF.py\"\n",
    "%run \"C:\\Users\\minet\\notebook\\python\\encapsulate\\encapsulateSharedMethods.py\"\n",
    "pathDLL = \"C:/Users/minet/notebook/python/ML_Library.dll\"\n",
    "\n",
    "myDll = CDLL(pathDLL)"
   ]
  },
  {
   "cell_type": "code",
   "execution_count": 2,
   "metadata": {},
   "outputs": [],
   "source": [
    "pathDatasetTrain = \"C:/dataset/Bigdataset_Crop_Color_50x50/train/\"\n",
    "pathDatasetPredict = \"C:/dataset/Bigdataset_Crop_Color_50x50/test/\"\n",
    "\n",
    "start_time = time.time()\n",
    "\n",
    "imagesNameTrain = os.listdir(pathDatasetTrain)\n",
    "imagesNamePredict = os.listdir(pathDatasetPredict)\n",
    "\n",
    "# Parameters\n",
    "numberImageTrain = len(imagesNameTrain)\n",
    "component  = 3 # color component\n",
    "imageW = 50\n",
    "imageH = 50\n",
    "dividedPixel = 1\n",
    "inputCountPerSample = (imageW * imageH * component)\n",
    "gamma = 1\n",
    "k = 100\n",
    "it = 100\n",
    "\n",
    "selectedImagesTrain = random.sample(imagesNameTrain, numberImageTrain)\n",
    "selectedImagesTrain = convertListToString(selectedImagesTrain, pathDatasetTrain)\n",
    "\n",
    "pMatrixX, pMatrixY = prepareDataset(myDll, selectedImagesTrain, imageW, imageH, numberImageTrain, component, dividedPixel)\n"
   ]
  },
  {
   "cell_type": "code",
   "execution_count": 3,
   "metadata": {},
   "outputs": [],
   "source": [
    "# Create & Allocate RBF Model\n",
    "myDll.createRBFModel.argtypes = [ c_uint ]\n",
    "myDll.createRBFModel.restype = c_void_p\n",
    "pArrayWeight = myDll.createRBFModel(inputCountPerSample)"
   ]
  },
  {
   "cell_type": "code",
   "execution_count": null,
   "metadata": {},
   "outputs": [],
   "source": [
    "# Fit RBF with regression version\n",
    "myDll.fitRBFRegression.argtypes = [ c_void_p, c_void_p, c_void_p, c_double, c_int, c_int ]\n",
    "error = myDll.fitRBFRegression( pArrayWeight, pMatrixX, pMatrixY, gamma, k, it)"
   ]
  },
  {
   "cell_type": "code",
   "execution_count": null,
   "metadata": {},
   "outputs": [],
   "source": [
    "# Params function\n",
    "myDll.predictRBFRegression.argtypes = [ c_void_p, c_void_p]\n",
    "myDll.predictRBFRegression.restype = c_double"
   ]
  },
  {
   "cell_type": "code",
   "execution_count": null,
   "metadata": {},
   "outputs": [],
   "source": [
    "numberImagePredict = len (imagesNamePredict)\n",
    "selectedImagesPredict = random.sample(imagesNamePredict, numberImagePredict)\n",
    "selectedImagesPredict = [pathDatasetPredict + el for el in selectedImagesPredict ]\n",
    "\n",
    "average = 0\n",
    "\n",
    "    for image in selectedImagesPredict:\n",
    "        imageName = image[image.rfind(\"/\")+1:]\n",
    "        age = int(imageName[:imageName.find(\"_\")])\n",
    "        \n",
    "        pMatrixXPredict, pMatrixYPredict = prepareDataset(myDll, image, imageW, imageH, 1, component, is255, -1, -1)\n",
    "        pVectorXPredict = matrixToVector(myDll, pMatrixXPredict, imageW * imageH * component, 0)\n",
    "        \n",
    "        result = myDll.predictNaiveRBFClassification( pArrayWeight, pVectorXPredict )\n",
    "        \n",
    "        deleteDatasetMatrix(myDll,  pMatrixXPredict, pMatrixYPredict)\n",
    "       \n",
    "        print(\"age : \", age, \"/ predicted : \", res)\n",
    "        average += (round(res) - age)**2\n",
    "        \n",
    "    average =  average / len(tabSelectedImages)"
   ]
  },
  {
   "cell_type": "code",
   "execution_count": null,
   "metadata": {},
   "outputs": [],
   "source": []
  },
  {
   "cell_type": "code",
   "execution_count": null,
   "metadata": {},
   "outputs": [],
   "source": []
  },
  {
   "cell_type": "code",
   "execution_count": null,
   "metadata": {},
   "outputs": [],
   "source": []
  }
 ],
 "metadata": {
  "kernelspec": {
   "display_name": "Python 3",
   "language": "python",
   "name": "python3"
  },
  "language_info": {
   "codemirror_mode": {
    "name": "ipython",
    "version": 3
   },
   "file_extension": ".py",
   "mimetype": "text/x-python",
   "name": "python",
   "nbconvert_exporter": "python",
   "pygments_lexer": "ipython3",
   "version": "3.7.3"
  }
 },
 "nbformat": 4,
 "nbformat_minor": 2
}
