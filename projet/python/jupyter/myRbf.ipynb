{
 "cells": [
  {
   "cell_type": "code",
   "execution_count": 13,
   "metadata": {},
   "outputs": [],
   "source": [
    "import random, os, time\n",
    "import matplotlib.pyplot as plt\n",
    "import numpy as np\n",
    "from ctypes import *\n",
    "from mpl_toolkits.mplot3d import Axes3D\n",
    "\n",
    "%run \"~\\Documents\\GitHub\\ProjetAnnuel3IBD\\projet\\python\\encapsulate\\encapsulateSharedMethods.py\"\n",
    "%run \"~\\Documents\\GitHub\\ProjetAnnuel3IBD\\projet\\python\\encapsulate\\encapsulateRBF.py\"\n",
    "pathDLL = \"C:/Users/nico_/Documents/GitHub/ProjetAnnuel3IBD/projet/MLAlgorithms/ML_Library/x64/Release/ML_Library.dll\"\n",
    "\n",
    "myDll = CDLL(pathDLL)\n",
    "\n",
    "pathSave = \"C:/Users/nico_/Documents/GitHub/projetAnnuel3IBD/projet/models/\""
   ]
  },
  {
   "cell_type": "code",
   "execution_count": 14,
   "metadata": {},
   "outputs": [],
   "source": [
    "pathDatasetTrain = \"C:/Users/nico_/Documents/ConvertedImages/Bigdataset_Crop_Color_50x50/train/\"\n",
    "pathDatasetPredict = \"C:/Users/nico_/Documents/ConvertedImages/Bigdataset_Crop_Color_50x50/test/\"\n",
    "\n",
    "\n",
    "start_time = time.time()\n",
    "\n",
    "imagesNameTrain = os.listdir(pathDatasetTrain)\n",
    "imagesNamePredict = os.listdir(pathDatasetPredict)\n",
    "\n",
    "# Parameters\n",
    "numberImageTrain = len(imagesNameTrain)\n",
    "component  = 3 # color component\n",
    "imageW = 50\n",
    "imageH = 50\n",
    "dividedPixel = 1\n",
    "inputCountPerSample = (imageW * imageH * component)\n",
    "gamma = 1\n",
    "k = 200\n",
    "it = 10\n",
    "start_time = time.time()\n",
    "selectedImagesTrain = random.sample(imagesNameTrain, numberImageTrain)\n",
    "selectedImagesTrain = convertListToString(selectedImagesTrain, pathDatasetTrain)\n",
    "\n",
    "pMatrixX, pMatrixY = prepareDataset(myDll, selectedImagesTrain, imageW, imageH, numberImageTrain, component, dividedPixel, -1, -1)\n"
   ]
  },
  {
   "cell_type": "code",
   "execution_count": 15,
   "metadata": {},
   "outputs": [],
   "source": [
    "# Create & Allocate RBF Model\n",
    "myDll.createRBFModel.argtypes = [ c_uint ]\n",
    "myDll.createRBFModel.restype = c_void_p\n",
    "pArrayWeight = myDll.createRBFModel(inputCountPerSample)"
   ]
  },
  {
   "cell_type": "code",
   "execution_count": 16,
   "metadata": {},
   "outputs": [],
   "source": [
    "# Fit RBF with regression version\n",
    "myDll.fitRBFRegression.argtypes = [ c_void_p, c_void_p, c_void_p, c_double, c_int, c_int ]\n",
    "error = myDll.fitRBFRegression( pArrayWeight, pMatrixX, pMatrixY, gamma, k, it)"
   ]
  },
  {
   "cell_type": "code",
   "execution_count": 17,
   "metadata": {},
   "outputs": [],
   "source": [
    "# Params function\n",
    "myDll.predictRBFRegression.argtypes = [ c_void_p, c_void_p]\n",
    "myDll.predictRBFRegression.restype = c_double"
   ]
  },
  {
   "cell_type": "code",
   "execution_count": 18,
   "metadata": {},
   "outputs": [
    {
     "name": "stdout",
     "output_type": "stream",
     "text": [
      "Moyenne erreurs Train: 38.43898126553473\n",
      "--- 4468.582612752914 seconds ---\n"
     ]
    }
   ],
   "source": [
    "numberImagePredict = len (imagesNamePredict)\n",
    "selectedImagesPredict = random.sample(imagesNamePredict, numberImagePredict)\n",
    "selectedImagesPredict = [pathDatasetPredict + el for el in selectedImagesPredict ]\n",
    "\n",
    "average = 0\n",
    "\n",
    "for image in selectedImagesPredict:\n",
    "    imageName = image[image.rfind(\"/\")+1:]\n",
    "    age = int(imageName[:imageName.find(\"_\")])\n",
    "\n",
    "    pMatrixXPredict, pMatrixYPredict = prepareDataset(myDll, image, imageW, imageH, 1, component, 1, -1, -1)\n",
    "    pVectorXPredict = matrixToVector(myDll, pMatrixXPredict, imageW * imageH * component, 0)\n",
    "\n",
    "    res = myDll.predictRBFRegression( pArrayWeight, pVectorXPredict )\n",
    "\n",
    "    deleteDatasetMatrix(myDll,  pMatrixXPredict, pMatrixYPredict)\n",
    "\n",
    "    #print(\"age : \", age, \"/ predicted : \", res)\n",
    "    average += (round(res) - age)**2\n",
    "average =  average / len(selectedImagesPredict)\n",
    "print(\"Moyenne erreurs Train: %s\" % average**0.5 )\n",
    "print(\"--- %s seconds ---\" % (time.time() - start_time))\n",
    "\n"
   ]
  },
  {
   "cell_type": "code",
   "execution_count": null,
   "metadata": {},
   "outputs": [],
   "source": []
  },
  {
   "cell_type": "code",
   "execution_count": null,
   "metadata": {},
   "outputs": [],
   "source": []
  },
  {
   "cell_type": "code",
   "execution_count": null,
   "metadata": {},
   "outputs": [],
   "source": []
  }
 ],
 "metadata": {
  "kernelspec": {
   "display_name": "Python 3",
   "language": "python",
   "name": "python3"
  },
  "language_info": {
   "codemirror_mode": {
    "name": "ipython",
    "version": 3
   },
   "file_extension": ".py",
   "mimetype": "text/x-python",
   "name": "python",
   "nbconvert_exporter": "python",
   "pygments_lexer": "ipython3",
   "version": "3.7.3"
  }
 },
 "nbformat": 4,
 "nbformat_minor": 2
}
