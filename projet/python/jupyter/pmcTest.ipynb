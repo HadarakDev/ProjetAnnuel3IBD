{
 "cells": [
  {
   "cell_type": "markdown",
   "metadata": {},
   "source": [
    "# PMC Test Cases "
   ]
  },
  {
   "cell_type": "code",
   "execution_count": 3,
   "metadata": {},
   "outputs": [],
   "source": [
    "import matplotlib.pyplot as plt\n",
    "import numpy as np\n",
    "from ctypes import *\n",
    "\n",
    "%run \"~\\Documents\\GitHub\\ProjetAnnuel3IBD\\projet\\python\\encapsulate\\encapsulatePMC.py\"\n",
    "%run \"~\\Documents\\GitHub\\ProjetAnnuel3IBD\\projet\\python\\encapsulate\\encapsulateSharedMethods.py\"\n",
    "pathDLL = \"C:/Users/nico_/Documents/GitHub/ProjetAnnuel3IBD/projet/MLAlgorithms/ML_Library/x64/Release/ML_Library.dll\"\n",
    "myDll = CDLL(pathDLL)"
   ]
  },
  {
   "cell_type": "markdown",
   "metadata": {},
   "source": [
    "# Classification\n",
    "\n",
    "linear Simple\n"
   ]
  },
  {
   "cell_type": "code",
   "execution_count": 17,
   "metadata": {},
   "outputs": [
    {
     "data": {
      "image/png": "[encoded data removed]",
      "text/plain": [
       "<Figure size 432x288 with 1 Axes>"
      ]
     },
     "metadata": {
      "needs_background": "light"
     },
     "output_type": "display_data"
    },
    {
     "data": {
      "text/plain": [
       "<Figure size 432x288 with 0 Axes>"
      ]
     },
     "metadata": {},
     "output_type": "display_data"
    }
   ],
   "source": [
    "# Points Data\n",
    "Xnp = np.array([ [1, 1], [2, 3], [3, 3] ])\n",
    "Ynp = np.array([ 1, -1, 1 ])\n",
    "X = matrixToArray(Xnp.tolist())\n",
    "Y = Ynp.tolist()\n",
    "\n",
    "# Parameters\n",
    "alpha = 0.01\n",
    "epochs = 1000\n",
    "display = int(epochs / 10)\n",
    "pmcStruct = [2, 1]\n",
    "arrStruct = (c_int * len(pmcStruct))(*pmcStruct)\n",
    "c_double_p = POINTER(c_double)\n",
    "\n",
    "# Load Matrix X\n",
    "\n",
    "pMatrixX = loadTestCase(myDll, X, Xnp.shape[0], Xnp.shape[1], 1)\n",
    "\n",
    "# Load Matrix Y\n",
    "pMatrixY = loadTestCase(myDll, Y, Ynp.shape[0], 1, 0)\n",
    "\n",
    "# Create & Allocate PMC Model using pmcStruct [2, 1] problème ici\n",
    "myDll.createPMCModel.argtypes = [POINTER(ARRAY(c_int, len(pmcStruct))), c_uint]\n",
    "myDll.createPMCModel.restype = c_void_p\n",
    "pArrayWeight = myDll.createPMCModel(arrStruct, len(pmcStruct))\n",
    " \n",
    "#pArrayWeight = createPMCModel(myDll, pmcStruct)\n",
    "\n",
    "# Fit PMC with classification version\n",
    "fitPMCClassification( myDll, pArrayWeight, pMatrixX, pMatrixY, 2, alpha, epochs, display)\n",
    "\n",
    "# Fit PMC with classification version\n",
    "#myDll.fitPMCClassification.argtypes = [ c_void_p, c_void_p, c_void_p, c_int, c_double, c_int, c_int ]\n",
    "#myDll.fitPMCClassification.restype = c_double\n",
    "#error = myDll.fitPMCClassification( pArrayWeight, pMatrixX, pMatrixY, 2, alpha, epochs, display)\n",
    "\n",
    "# Python Function to get coordinates\n",
    "def get(i, l):\n",
    "    return [z[i] for z in l]\n",
    "\n",
    "X1 = np.linspace(-1, 3, 30)\n",
    "X2 = np.linspace(-1, 3, 30)\n",
    "classA = []\n",
    "classB = []\n",
    "\n",
    "# Predict points to test if Model is working \n",
    "for x1 in X1:\n",
    "    for x2 in X2: \n",
    "        predictX = np.array([x1, x2])\n",
    "        datasetTmp = datasetToVector(myDll, predictX, 1)\n",
    "        value = predictPMCClassification(myDll, pArrayWeight, datasetTmp, 1, len(predictX))\n",
    "        if value[0] > 0:\n",
    "            classA.append(tuple([x1, x2]))\n",
    "        else:\n",
    "            classB.append(tuple([x1, x2]))\n",
    "\n",
    "# Display points for each class\n",
    "plt.scatter(\n",
    "    get(0, classA),\n",
    "    get(1, classA),\n",
    "    color=\"#bbdefb\"\n",
    ")\n",
    "plt.scatter(\n",
    "    get(0, classB),\n",
    "    get(1, classB),\n",
    "    color=\"#ffcdd2\"\n",
    ")\n",
    "\n",
    "# Display data points\n",
    "plt.scatter(Xnp[0, 0], Xnp[0, 1], color='blue')\n",
    "plt.scatter(Xnp[1:3,0], Xnp[1:3,1], color='red')\n",
    "plt.show()\n",
    "plt.clf()\n",
    "\n",
    "# delete / free PMC Model\n",
    "deletePMCModel( myDll, pArrayWeight )"
   ]
  },
  {
   "cell_type": "code",
   "execution_count": null,
   "metadata": {},
   "outputs": [],
   "source": []
  },
  {
   "cell_type": "code",
   "execution_count": null,
   "metadata": {},
   "outputs": [],
   "source": []
  }
 ],
 "metadata": {
  "kernelspec": {
   "display_name": "Python 3",
   "language": "python",
   "name": "python3"
  },
  "language_info": {
   "codemirror_mode": {
    "name": "ipython",
    "version": 3
   },
   "file_extension": ".py",
   "mimetype": "text/x-python",
   "name": "python",
   "nbconvert_exporter": "python",
   "pygments_lexer": "ipython3",
   "version": "3.7.3"
  }
 },
 "nbformat": 4,
 "nbformat_minor": 2
}
