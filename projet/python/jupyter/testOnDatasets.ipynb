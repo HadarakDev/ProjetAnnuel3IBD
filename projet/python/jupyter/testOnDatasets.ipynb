{
 "cells": [
  {
   "cell_type": "markdown",
   "metadata": {},
   "source": [
    "# Test On datasets"
   ]
  },
  {
   "cell_type": "code",
   "execution_count": 1,
   "metadata": {},
   "outputs": [],
   "source": [
    "import numpy as np\n",
    "import matplotlib.pyplot as plt\n",
    "from mpl_toolkits.mplot3d import Axes3D\n",
    "import numpy as np\n",
    "from ctypes import *\n",
    "\n",
    "%run \"~\\Documents\\GitHub\\ProjetAnnuel3IBD\\projet\\python\\encapsulate\\encapsulateSharedMethods.py\"\n",
    "%run \"~\\Documents\\GitHub\\ProjetAnnuel3IBD\\projet\\python\\encapsulate\\encapsulateSVM.py\"\n",
    "%run \"~\\Documents\\GitHub\\ProjetAnnuel3IBD\\projet\\python\\encapsulate\\encapsulatePMC.py\"\n",
    "%run \"~\\Documents\\GitHub\\ProjetAnnuel3IBD\\projet\\python\\encapsulate\\encapsulateLinear.py\"\n",
    "pathDLL = \"C:/Users/nico_/Documents/GitHub/ProjetAnnuel3IBD/projet/MLAlgorithms/ML_Library/x64/Release/ML_Library.dll\"\n",
    "myDll = CDLL(pathDLL)"
   ]
  },
  {
   "cell_type": "code",
   "execution_count": null,
   "metadata": {},
   "outputs": [],
   "source": [
    "pathDatasetTrain = \"C:/Users/nico_/Documents/ConvertedImages/Lotte_Crop_Gray_100x50/train/\"\n",
    "pathDatasetPredict = \"C:/Users/nico_/Documents/ConvertedImages/Lotte_Crop_Gray_100x50/test/\""
   ]
  },
  {
   "cell_type": "code",
   "execution_count": 2,
   "metadata": {},
   "outputs": [],
   "source": [
    "#### COMMON PARAMS ####\n",
    "\n",
    "component  = 1\n",
    "imageW = 100\n",
    "imageH = 50\n",
    "numberImageTrain = 1\n",
    "numberImagePredict = 40\n",
    "inputCountPerSample = (imageW * imageH * component)\n",
    "alpha = 0.01\n",
    "epochs = 10000\n",
    "display = int(epochs / 10)\n",
    "\n",
    "\n",
    "#### EVALUATE  ####\n",
    "\n",
    "startNumberImageTrain = 20\n",
    "evaluateFactor = 2\n",
    "numberImagePredictEvaluate = 1388\n",
    "pathLog = \"C:/Users/nico_/Documents/ConvertedImages/EvaluateModels.txt\"\n",
    "\n",
    "##### PMC ####\n",
    "\n",
    "pmcStruct = [int(inputCountPerSample), 2,  1]\n",
    "pmcArray = (c_int * len(pmcStruct))(*pmcStruct)\n",
    "lenPMC = len(pmcStruct)\n",
    "\n",
    "#### CTYPES ####\n",
    "c_double_p = POINTER(c_double)\n",
    "\n",
    "#### SAVE ####\n",
    "folderSave = \"C:/Users/nico_/Documents/ConvertedImages/\"\n",
    "pathSaveLinear = folderSave + \"weights_\" + str(inputCountPerSample) + \"_\" + str(imageW) + \"_\" + str(imageH) + \"_\" + str(numberImageTrain) + \".csv\"\n",
    "pathSavePMC = folderSave + \"weights_PMC_\" + str(pmcStruct) + \"_\" + str(imageW) + \"_\" + str(imageH) + \"_\" + str(numberImageTrain) + \".csv\"\n",
    "\n",
    "#### DLL PATHS ####\n",
    "#nico\n",
    "pathDLL = \"C:/Users/nico_/Documents/GitHub/ProjetAnnuel3IBD/projet/MLAlgorithms/ML_Library/x64/Release/ML_Library.dll\"\n",
    "\n",
    "#### DATASET PATHS ####\n",
    "\n",
    "#nico\n",
    "pathDatasetTrain = \"C:/Users/nico_/Documents/ConvertedImages/SplittedMinus/train/\"\n",
    "pathDatasetPredict = \"C:/Users/nico_/Documents/ConvertedImages/SplittedMinus/test/\""
   ]
  }
 ],
 "metadata": {
  "kernelspec": {
   "display_name": "Python 3",
   "language": "python",
   "name": "python3"
  },
  "language_info": {
   "codemirror_mode": {
    "name": "ipython",
    "version": 3
   },
   "file_extension": ".py",
   "mimetype": "text/x-python",
   "name": "python",
   "nbconvert_exporter": "python",
   "pygments_lexer": "ipython3",
   "version": "3.7.3"
  }
 },
 "nbformat": 4,
 "nbformat_minor": 2
}
