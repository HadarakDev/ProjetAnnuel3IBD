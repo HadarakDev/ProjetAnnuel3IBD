{
 "cells": [
  {
   "cell_type": "markdown",
   "metadata": {},
   "source": [
    "# Linear Regression On datasets"
   ]
  },
  {
   "cell_type": "code",
   "execution_count": 1,
   "metadata": {},
   "outputs": [],
   "source": [
    "import numpy as np\n",
    "import os\n",
    "import matplotlib.pyplot as plt\n",
    "from mpl_toolkits.mplot3d import Axes3D\n",
    "import numpy as np\n",
    "import time\n",
    "from ctypes import *\n",
    "\n",
    "%run \"~\\Documents\\GitHub\\ProjetAnnuel3IBD\\projet\\python\\encapsulate\\encapsulateSharedMethods.py\"\n",
    "%run \"~\\Documents\\GitHub\\ProjetAnnuel3IBD\\projet\\python\\encapsulate\\encapsulateLinear.py\"\n",
    "pathDLL = \"C:/Users/nico_/Documents/GitHub/ProjetAnnuel3IBD/projet/MLAlgorithms/ML_Library/x64/Release/ML_Library.dll\"\n",
    "myDll = CDLL(pathDLL)\n",
    "\n",
    "pathSave = \"C:/Users/nico_/Documents/GitHub/projetAnnuel3IBD/projet/models/\""
   ]
  },
  {
   "cell_type": "markdown",
   "metadata": {},
   "source": [
    "## Training on Dataset \"Lotte Crop Gray 100x50\""
   ]
  },
  {
   "cell_type": "code",
   "execution_count": 2,
   "metadata": {},
   "outputs": [
    {
     "name": "stdout",
     "output_type": "stream",
     "text": [
      "Moyenne erreurs² : 10.004322766570604\n",
      "Moyenne erreurs : 3.162961075728028\n",
      "--- 172.01669096946716 seconds ---\n"
     ]
    }
   ],
   "source": [
    "pathDatasetTrain = \"C:/Users/nico_/Documents/ConvertedImages/Lotte_Crop_Gray_100x50/train/\"\n",
    "pathDatasetPredict = \"C:/Users/nico_/Documents/ConvertedImages/Lotte_Crop_Gray_100x50/test/\"\n",
    "\n",
    "start_time = time.time()\n",
    "\n",
    "imagesName = os.listdir(pathDatasetTrain)\n",
    "\n",
    "# Parameters\n",
    "numberImageTrain = len(imagesName)\n",
    "component  = 1 # color component\n",
    "imageW = 100\n",
    "imageH = 50\n",
    "inputCountPerSample = (imageW * imageH * component)\n",
    "\n",
    "selectedImages = random.sample(imagesName, numberImageTrain)\n",
    "selectedImages = convertListToString(selectedImages, pathDatasetTrain)\n",
    "\n",
    "pMatrixX, pMatrixY = prepareDataset(myDll, selectedImages, imageW, imageH, numberImageTrain, component)\n",
    "\n",
    "pArrayWeight = createLinearModel( myDll, inputCountPerSample )\n",
    "\n",
    "#entrainement du modèle\n",
    "error = fitLinearRegression( myDll, pArrayWeight, pMatrixX, pMatrixY, numberImageTrain, inputCountPerSample )\n",
    "\n",
    "saveLinearWeightsInCSV(myDll, (pathSave + \"Linear_Lotte_Crop_Gray_100x50.csv\"), pArrayWeight);\n",
    "\n",
    "imagesName = os.listdir(pathDatasetPredict)\n",
    "numberImagePredict = len (imagesName)\n",
    "selectedImages = random.sample(imagesName, numberImagePredict)\n",
    "selectedImages = [pathDatasetPredict + el for el in selectedImages ]\n",
    "\n",
    "predictResponse = predictLinearRegressionAverage(myDll, selectedImages, \\\n",
    "                                                 pArrayWeight, imageW, imageH, component)\n",
    "\n",
    "print(\"Moyenne erreurs² : %s\" % predictResponse )\n",
    "print(\"Moyenne erreurs : %s\" % predictResponse**0.5 )\n",
    "\n",
    "deleteLinearModel( myDll, pArrayWeight)\n",
    "print(\"--- %s seconds ---\" % (time.time() - start_time))\n"
   ]
  },
  {
   "cell_type": "markdown",
   "metadata": {},
   "source": [
    "## Evaluate Linear Regression on Dataset \"Lotte Crop Gray 100x50\""
   ]
  },
  {
   "cell_type": "code",
   "execution_count": null,
   "metadata": {},
   "outputs": [
    {
     "name": "stdout",
     "output_type": "stream",
     "text": [
      "Nombre Image de l'entrainement : 20 | W = 100 | H = 50 \n",
      "\n",
      "Moyenne erreurs² : 18.415706051873197 \n",
      "\n",
      "Moyenne erreurs : 4.291352473506831 \n",
      "\n",
      "----LOG---\n",
      "Nombre Image de l'entrainement : 40 | W = 100 | H = 50 \n",
      "\n",
      "Moyenne erreurs² : 17.328530259365994 \n",
      "\n",
      "Moyenne erreurs : 4.162755128441498 \n",
      "\n",
      "----LOG---\n",
      "Nombre Image de l'entrainement : 80 | W = 100 | H = 50 \n",
      "\n",
      "Moyenne erreurs² : 14.327809798270893 \n",
      "\n",
      "Moyenne erreurs : 3.7852093466902055 \n",
      "\n",
      "----LOG---\n",
      "Nombre Image de l'entrainement : 160 | W = 100 | H = 50 \n",
      "\n",
      "Moyenne erreurs² : 10.838616714697407 \n",
      "\n",
      "Moyenne erreurs : 3.292205448433832 \n",
      "\n",
      "----LOG---\n",
      "Nombre Image de l'entrainement : 320 | W = 100 | H = 50 \n",
      "\n",
      "Moyenne erreurs² : 9.635446685878962 \n",
      "\n",
      "Moyenne erreurs : 3.1041015907793614 \n",
      "\n",
      "----LOG---\n",
      "Nombre Image de l'entrainement : 640 | W = 100 | H = 50 \n",
      "\n",
      "Moyenne erreurs² : 8.609510086455332 \n",
      "\n",
      "Moyenne erreurs : 2.934196667991996 \n",
      "\n",
      "----LOG---\n",
      "Nombre Image de l'entrainement : 1280 | W = 100 | H = 50 \n",
      "\n",
      "Moyenne erreurs² : 7.876080691642652 \n",
      "\n",
      "Moyenne erreurs : 2.8064355848019478 \n",
      "\n",
      "----LOG---\n"
     ]
    }
   ],
   "source": [
    "#### EVALUATE  ####\n",
    "\n",
    "startNumberImageTrain = 20\n",
    "evaluateFactor = 2\n",
    "pathLog = \"C:/Users/nico_/Documents/ConvertedImages/EvaluateModels/Lotte_Crop_Gray_100x50.txt\"\n",
    "\n",
    "evaluateLinearAlgorithmOnDataset(myDll, pathDatasetTrain, pathDatasetPredict, pathLog, imageW, imageH, component, \\\n",
    "                                 startNumberImageTrain, evaluateFactor )"
   ]
  },
  {
   "cell_type": "markdown",
   "metadata": {},
   "source": [
    "## Training on Dataset \"Lotte Crop Gray 490x357\""
   ]
  },
  {
   "cell_type": "code",
   "execution_count": null,
   "metadata": {},
   "outputs": [],
   "source": [
    "pathDatasetTrain = \"C:/Users/nico_/Documents/ConvertedImages/Lotte_Crop_Gray_490x357/train/\"\n",
    "pathDatasetPredict = \"C:/Users/nico_/Documents/ConvertedImages/Lotte_Crop_Gray_490x357/test/\"\n",
    "\n",
    "start_time = time.time()\n",
    "\n",
    "imagesName = os.listdir(pathDatasetTrain)\n",
    "\n",
    "# Parameters\n",
    "numberImageTrain = 10#len(imagesName)\n",
    "component  = 1 # color component\n",
    "imageW = 490\n",
    "imageH = 357\n",
    "inputCountPerSample = (imageW * imageH * component)\n",
    "\n",
    "selectedImages = random.sample(imagesName, numberImageTrain)\n",
    "selectedImages = convertListToString(selectedImages, pathDatasetTrain)\n",
    "\n",
    "pMatrixX, pMatrixY = prepareDataset(myDll, selectedImages, imageW, imageH, numberImageTrain, component)\n",
    "\n",
    "pArrayWeight = createLinearModel( myDll, inputCountPerSample )\n",
    "\n",
    "#entrainement du modèle\n",
    "error = fitLinearRegression( myDll, pArrayWeight, pMatrixX, pMatrixY, numberImageTrain, inputCountPerSample )\n",
    "\n",
    "saveLinearWeightsInCSV(myDll, (pathSave + \"Linear_Lotte_Crop_Gray_490x357.csv\"), pArrayWeight);\n",
    "\n",
    "imagesName = os.listdir(pathDatasetPredict)\n",
    "numberImagePredict = len (imagesName)\n",
    "selectedImages = random.sample(imagesName, numberImagePredict)\n",
    "selectedImages = [pathDatasetPredict + el for el in selectedImages ]\n",
    "\n",
    "predictResponse = predictLinearRegressionAverage(myDll, selectedImages, \\\n",
    "                                                 pArrayWeight, imageW, imageH, component)\n",
    "\n",
    "print(\"Moyenne erreurs² : %s\" % predictResponse )\n",
    "print(\"Moyenne erreurs : %s\" % predictResponse**0.5 )\n",
    "\n",
    "deleteLinearModel( myDll, pArrayWeight)\n",
    "print(\"--- %s seconds ---\" % (time.time() - start_time))\n"
   ]
  },
  {
   "cell_type": "markdown",
   "metadata": {},
   "source": [
    "## Evaluate Linear Regression on Dataset \"Lotte Crop Gray 490x357\""
   ]
  },
  {
   "cell_type": "code",
   "execution_count": null,
   "metadata": {},
   "outputs": [],
   "source": [
    "#### EVALUATE  ####\n",
    "\n",
    "startNumberImageTrain = 20\n",
    "evaluateFactor = 2\n",
    "pathLog = \"C:/Users/nico_/Documents/ConvertedImages/EvaluateModels/Lotte_Crop_Gray_490x357.txt\"\n",
    "\n",
    "evaluateLinearAlgorithmOnDataset(myDll, pathDatasetTrain, pathDatasetPredict, pathLog, imageW, imageH, component, \\\n",
    "                                 startNumberImageTrain, evaluateFactor )"
   ]
  },
  {
   "cell_type": "markdown",
   "metadata": {},
   "source": [
    "## Training on Dataset \"Lotte Crop Color 490x357\""
   ]
  },
  {
   "cell_type": "code",
   "execution_count": null,
   "metadata": {},
   "outputs": [],
   "source": [
    "pathDatasetTrain = \"C:/Users/nico_/Documents/ConvertedImages/Lotte_Crop_Color_490x357/train/\"\n",
    "pathDatasetPredict = \"C:/Users/nico_/Documents/ConvertedImages/Lotte_Crop_Color_490x357/test/\"\n",
    "\n",
    "start_time = time.time()\n",
    "\n",
    "imagesName = os.listdir(pathDatasetTrain)\n",
    "\n",
    "# Parameters\n",
    "numberImageTrain = len(imagesName)\n",
    "component  = 3 # color component\n",
    "imageW = 100\n",
    "imageH = 50\n",
    "inputCountPerSample = (imageW * imageH * component)\n",
    "\n",
    "selectedImages = random.sample(imagesName, numberImageTrain)\n",
    "selectedImages = convertListToString(selectedImages, pathDatasetTrain)\n",
    "\n",
    "pMatrixX, pMatrixY = prepareDataset(myDll, selectedImages, imageW, imageH, numberImageTrain, component)\n",
    "\n",
    "pArrayWeight = createLinearModel( myDll, inputCountPerSample )\n",
    "\n",
    "#entrainement du modèle\n",
    "error = fitLinearRegression( myDll, pArrayWeight, pMatrixX, pMatrixY, numberImageTrain, inputCountPerSample )\n",
    "\n",
    "print((pathSave + \"Lotte_Crop_Gray_100x50.csv\"))\n",
    "saveLinearWeightsInCSV(myDll, (pathSave + \"Linear_Lotte_Crop_Color_490x357.csv\"), pArrayWeight);\n",
    "\n",
    "imagesName = os.listdir(pathDatasetPredict)\n",
    "numberImagePredict = len (imagesName)\n",
    "selectedImages = random.sample(imagesName, numberImagePredict)\n",
    "selectedImages = [pathDatasetPredict + el for el in selectedImages ]\n",
    "\n",
    "predictResponse = predictLinearRegressionAverage(myDll, selectedImages, \\\n",
    "                                                 pArrayWeight, imageW, imageH, component)\n",
    "\n",
    "print(\"Moyenne erreurs² : %s\" % predictResponse )\n",
    "print(\"Moyenne erreurs : %s\" % predictResponse**0.5 )\n",
    "\n",
    "deleteLinearModel( myDll, pArrayWeight)\n",
    "print(\"--- %s seconds ---\" % (time.time() - start_time))\n"
   ]
  },
  {
   "cell_type": "markdown",
   "metadata": {},
   "source": [
    "## Evaluate Linear Regression on Dataset \"Lotte Crop Color 490x357\""
   ]
  },
  {
   "cell_type": "code",
   "execution_count": null,
   "metadata": {},
   "outputs": [],
   "source": [
    "#### EVALUATE  ####\n",
    "\n",
    "startNumberImageTrain = 20\n",
    "evaluateFactor = 2\n",
    "pathLog = \"C:/Users/nico_/Documents/ConvertedImages/EvaluateModels/Lotte_Crop_Gray_490x357.txt\"\n",
    "\n",
    "evaluateLinearAlgorithmOnDataset(myDll, pathDatasetTrain, pathDatasetPredict, pathLog, imageW, imageH, component, \\\n",
    "                                 startNumberImageTrain, evaluateFactor )"
   ]
  }
 ],
 "metadata": {
  "kernelspec": {
   "display_name": "Python 3",
   "language": "python",
   "name": "python3"
  },
  "language_info": {
   "codemirror_mode": {
    "name": "ipython",
    "version": 3
   },
   "file_extension": ".py",
   "mimetype": "text/x-python",
   "name": "python",
   "nbconvert_exporter": "python",
   "pygments_lexer": "ipython3",
   "version": "3.7.3"
  }
 },
 "nbformat": 4,
 "nbformat_minor": 2
}
