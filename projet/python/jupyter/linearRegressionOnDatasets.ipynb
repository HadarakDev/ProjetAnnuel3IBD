{
 "cells": [
  {
   "cell_type": "markdown",
   "metadata": {},
   "source": [
    "# Linear Regression On datasets"
   ]
  },
  {
   "cell_type": "code",
   "execution_count": 18,
   "metadata": {},
   "outputs": [],
   "source": [
    "import numpy as np\n",
    "import os\n",
    "import matplotlib.pyplot as plt\n",
    "from mpl_toolkits.mplot3d import Axes3D\n",
    "import numpy as np\n",
    "import time\n",
    "import random\n",
    "from ctypes import *\n",
    "\n",
    "%run \"~\\Documents\\GitHub\\ProjetAnnuel3IBD\\projet\\python\\encapsulate\\encapsulateSharedMethods.py\"\n",
    "%run \"~\\Documents\\GitHub\\ProjetAnnuel3IBD\\projet\\python\\encapsulate\\encapsulateLinear.py\"\n",
    "pathDLL = \"C:/Users/nico_/Documents/GitHub/ProjetAnnuel3IBD/projet/MLAlgorithms/ML_Library/x64/Release/ML_Library.dll\"\n",
    "myDll = CDLL(pathDLL)\n",
    "\n",
    "pathSave = \"C:/Users/nico_/Documents/GitHub/projetAnnuel3IBD/projet/models/\"\n",
    "pathLog"
   ]
  },
  {
   "cell_type": "markdown",
   "metadata": {},
   "source": [
    "## Training on Dataset \"Lotte Crop Gray 100x50\""
   ]
  },
  {
   "cell_type": "code",
   "execution_count": 20,
   "metadata": {},
   "outputs": [
    {
     "name": "stdout",
     "output_type": "stream",
     "text": [
      "C:/Users/nico_/Documents/GitHub/projetAnnuel3IBD/projet/models/Lotte_Crop_Gray_100x50.csv\n",
      "Moyenne erreurs² : 13.110951008645532\n",
      "Moyenne erreurs : 3.620904722392669\n",
      "--- 0.7660009860992432 seconds ---\n"
     ]
    }
   ],
   "source": [
    "pathDatasetTrain = \"C:/Users/nico_/Documents/ConvertedImages/Lotte_Crop_Gray_100x50/train/\"\n",
    "pathDatasetPredict = \"C:/Users/nico_/Documents/ConvertedImages/Lotte_Crop_Gray_100x50/test/\"\n",
    "\n",
    "start_time = time.time()\n",
    "\n",
    "imagesName = os.listdir(pathDatasetTrain)\n",
    "\n",
    "# Parameters\n",
    "numberImageTrain = 100#len(imagesName)\n",
    "component  = 1 # color component\n",
    "imageW = 100\n",
    "imageH = 50\n",
    "inputCountPerSample = (imageW * imageH * component)\n",
    "\n",
    "selectedImages = random.sample(imagesName, numberImageTrain)\n",
    "selectedImages = convertListToString(selectedImages, pathDatasetTrain)\n",
    "\n",
    "pMatrixX, pMatrixY = prepareDataset(myDll, selectedImages, imageW, imageH, numberImageTrain, component)\n",
    "\n",
    "pArrayWeight = createLinearModel( myDll, inputCountPerSample )\n",
    "\n",
    "#entrainement du modèle\n",
    "error = fitLinearRegression( myDll, pArrayWeight, pMatrixX, pMatrixY, numberImageTrain, inputCountPerSample )\n",
    "\n",
    "print((pathSave + \"Lotte_Crop_Gray_100x50.csv\"))\n",
    "saveLinearWeightsInCSV(myDll, (pathSave + \"Lotte_Crop_Gray_100x50.csv\"), pArrayWeight);\n",
    "\n",
    "imagesName = os.listdir(pathDatasetPredict)\n",
    "numberImagePredict = len (imagesName)\n",
    "selectedImages = random.sample(imagesName, numberImagePredict)\n",
    "selectedImages = [pathDatasetPredict + el for el in selectedImages ]\n",
    "\n",
    "predictResponse = predictLinearRegressionAverage(myDll, selectedImages, \\\n",
    "                                                 pArrayWeight, imageW, imageH, component)\n",
    "\n",
    "print(\"Moyenne erreurs² : %s\" % predictResponse )\n",
    "print(\"Moyenne erreurs : %s\" % predictResponse**0.5 )\n",
    "\n",
    "deleteLinearModel( myDll, pArrayWeight)\n",
    "print(\"--- %s seconds ---\" % (time.time() - start_time))\n"
   ]
  },
  {
   "cell_type": "markdown",
   "metadata": {},
   "source": [
    "## Training on Dataset \"Lotte Crop Gray 100x50\""
   ]
  },
  {
   "cell_type": "code",
   "execution_count": null,
   "metadata": {},
   "outputs": [],
   "source": [
    "#### EVALUATE  ####\n",
    "\n",
    "startNumberImageTrain = 20\n",
    "evaluateFactor = 2\n",
    "numberImagePredictEvaluate = 1388\n",
    "pathLog = \"C:/Users/nico_/Documents/ConvertedImages/EvaluateModels/Lotte Crop Gray 100x50.txt\"\n",
    "\n",
    "evaluateLinearAlgorithmOnDataset(myDll, pathDatasetTrain, pathDatasetPredict, pathLog, imageW, imageH, component)"
   ]
  },
  {
   "cell_type": "markdown",
   "metadata": {},
   "source": [
    "## Training on Dataset \"Lotte Crop Gray 490x357\""
   ]
  },
  {
   "cell_type": "code",
   "execution_count": null,
   "metadata": {},
   "outputs": [],
   "source": [
    "pathDatasetTrain = \"C:/Users/nico_/Documents/ConvertedImages/Lotte_Crop_Gray_490x357/train/\"\n",
    "pathDatasetPredict = \"C:/Users/nico_/Documents/ConvertedImages/Lotte_Crop_Gray_490x357/test/\"\n",
    "\n",
    "start_time = time.time()\n",
    "\n",
    "imagesName = os.listdir(pathDatasetTrain)\n",
    "\n",
    "# Parameters\n",
    "numberImageTrain = 100#len(imagesName)\n",
    "component  = 1 # color component\n",
    "imageW = 100\n",
    "imageH = 50\n",
    "inputCountPerSample = (imageW * imageH * component)\n",
    "\n",
    "selectedImages = random.sample(imagesName, numberImageTrain)\n",
    "selectedImages = convertListToString(selectedImages, pathDatasetTrain)\n",
    "\n",
    "pMatrixX, pMatrixY = prepareDataset(myDll, selectedImages, imageW, imageH, numberImageTrain, component)\n",
    "\n",
    "pArrayWeight = createLinearModel( myDll, inputCountPerSample )\n",
    "\n",
    "#entrainement du modèle\n",
    "error = fitLinearRegression( myDll, pArrayWeight, pMatrixX, pMatrixY, numberImageTrain, inputCountPerSample )\n",
    "\n",
    "saveLinearWeightsInCSV(myDll, (pathSave + \"Lotte_Crop_Gray_490x357.csv\"), pArrayWeight);\n",
    "\n",
    "imagesName = os.listdir(pathDatasetPredict)\n",
    "numberImagePredict = len (imagesName)\n",
    "selectedImages = random.sample(imagesName, numberImagePredict)\n",
    "selectedImages = [pathDatasetPredict + el for el in selectedImages ]\n",
    "\n",
    "predictResponse = predictLinearRegressionAverage(myDll, selectedImages, \\\n",
    "                                                 pArrayWeight, imageW, imageH, component)\n",
    "\n",
    "print(\"Moyenne erreurs² : %s\" % predictResponse )\n",
    "print(\"Moyenne erreurs : %s\" % predictResponse**0.5 )\n",
    "\n",
    "deleteLinearModel( myDll, pArrayWeight)\n",
    "print(\"--- %s seconds ---\" % (time.time() - start_time))\n"
   ]
  },
  {
   "cell_type": "markdown",
   "metadata": {},
   "source": [
    "## Training on Dataset \"Lotte Crop Color 490x357\""
   ]
  },
  {
   "cell_type": "code",
   "execution_count": null,
   "metadata": {},
   "outputs": [],
   "source": [
    "pathDatasetTrain = \"C:/Users/nico_/Documents/ConvertedImages/Lotte_Crop_Color_490x357/train/\"\n",
    "pathDatasetPredict = \"C:/Users/nico_/Documents/ConvertedImages/Lotte_Crop_Color_490x357/test/\"\n",
    "\n",
    "start_time = time.time()\n",
    "\n",
    "imagesName = os.listdir(pathDatasetTrain)\n",
    "\n",
    "# Parameters\n",
    "numberImageTrain = 100#len(imagesName)\n",
    "component  = 3 # color component\n",
    "imageW = 100\n",
    "imageH = 50\n",
    "inputCountPerSample = (imageW * imageH * component)\n",
    "\n",
    "selectedImages = random.sample(imagesName, numberImageTrain)\n",
    "selectedImages = convertListToString(selectedImages, pathDatasetTrain)\n",
    "\n",
    "pMatrixX, pMatrixY = prepareDataset(myDll, selectedImages, imageW, imageH, numberImageTrain, component)\n",
    "\n",
    "pArrayWeight = createLinearModel( myDll, inputCountPerSample )\n",
    "\n",
    "#entrainement du modèle\n",
    "error = fitLinearRegression( myDll, pArrayWeight, pMatrixX, pMatrixY, numberImageTrain, inputCountPerSample )\n",
    "\n",
    "print((pathSave + \"Lotte_Crop_Gray_100x50.csv\"))\n",
    "saveLinearWeightsInCSV(myDll, (pathSave + \"Lotte_Crop_Color_490x357.csv\"), pArrayWeight);\n",
    "\n",
    "imagesName = os.listdir(pathDatasetPredict)\n",
    "numberImagePredict = len (imagesName)\n",
    "selectedImages = random.sample(imagesName, numberImagePredict)\n",
    "selectedImages = [pathDatasetPredict + el for el in selectedImages ]\n",
    "\n",
    "predictResponse = predictLinearRegressionAverage(myDll, selectedImages, \\\n",
    "                                                 pArrayWeight, imageW, imageH, component)\n",
    "\n",
    "print(\"Moyenne erreurs² : %s\" % predictResponse )\n",
    "print(\"Moyenne erreurs : %s\" % predictResponse**0.5 )\n",
    "\n",
    "deleteLinearModel( myDll, pArrayWeight)\n",
    "print(\"--- %s seconds ---\" % (time.time() - start_time))\n"
   ]
  }
 ],
 "metadata": {
  "kernelspec": {
   "display_name": "Python 3",
   "language": "python",
   "name": "python3"
  },
  "language_info": {
   "codemirror_mode": {
    "name": "ipython",
    "version": 3
   },
   "file_extension": ".py",
   "mimetype": "text/x-python",
   "name": "python",
   "nbconvert_exporter": "python",
   "pygments_lexer": "ipython3",
   "version": "3.7.3"
  }
 },
 "nbformat": 4,
 "nbformat_minor": 2
}
