{
 "cells": [
  {
   "cell_type": "code",
   "execution_count": 9,
   "metadata": {},
   "outputs": [],
   "source": [
    "from ctypes import *\n",
    "import numpy as np\n",
    "\n",
    "#%run \"~\\notebook\\encapsulate\\encapsulateSharedMethods.py\"\n",
    "#%run \"~\\notebook\\encapsulate\\encapsulateLinear.py\"\n",
    "%run \"~\\Documents\\GitHub\\ProjetAnnuel3IBD\\projet\\python\\encapsulate\\encapsulateSharedMethods.py\"\n",
    "%run \"~\\Documents\\GitHub\\ProjetAnnuel3IBD\\projet\\python\\encapsulate\\encapsulateLinear.py\"\n",
    "#pathDLL = \"C:/Users/minet/notebook/ML_Library.dll\"\n",
    "pathDLL = \"C:/Users/nico_/Documents/GitHub/ProjetAnnuel3IBD/projet/MLAlgorithms/ML_Library/x64/Release/ML_Library.dll\"\n",
    "#change save file\n",
    "savePath = \"C:/Users/nico_/Documents/GitHub/projetAnnuel3IBD/projet/models/Linear_Bigdataset_Crop_Color_50x50__p_19.82.csv\"\n",
    "#change image\n",
    "imagePath = \"C:/Users/minet/notebook/images/1_0_0_20161219190621290.jpg\"\n",
    "\n",
    "pathDatasetTrain = \"C:/Users/nico_/Documents/ConvertedImages/Bigdataset_Crop_Color_50x50/train/\"\n",
    "pathDatasetPredict = \"C:/Users/nico_/Documents/ConvertedImages/Bigdataset_Crop_Color_50x50/test/\"\n",
    "\n",
    "\n",
    "\n",
    "myDll = CDLL(pathDLL)"
   ]
  },
  {
   "cell_type": "markdown",
   "metadata": {},
   "source": [
    "# Params"
   ]
  },
  {
   "cell_type": "code",
   "execution_count": 10,
   "metadata": {},
   "outputs": [],
   "source": [
    "imageW =50\n",
    "imageH = 50\n",
    "component = 3\n",
    "inputCountPerSample = (imageW * imageH * component)"
   ]
  },
  {
   "cell_type": "markdown",
   "metadata": {},
   "source": [
    "# Load save and predict"
   ]
  },
  {
   "cell_type": "code",
   "execution_count": 11,
   "metadata": {},
   "outputs": [
    {
     "name": "stdout",
     "output_type": "stream",
     "text": [
      "Moyenne erreurs² : 392.98144941874847\n",
      "Moyenne erreurs : 19.82375971955745\n"
     ]
    }
   ],
   "source": [
    "#pMatrixX, pMatrixY = prepareDataset(myDll, imagePath, imageW, imageH, numberImageTrain, component)\n",
    "pArrayWeight = loadLinearWeightsWithCSV(myDll, savePath, inputCountPerSample)\n",
    "\n",
    "imagesNamePredict = os.listdir(pathDatasetPredict)\n",
    "\n",
    "numberImagePredict = len (imagesNamePredict)\n",
    "selectedImagesPredict = random.sample(imagesNamePredict, numberImagePredict)\n",
    "selectedImagesPredict = [pathDatasetPredict + el for el in selectedImagesPredict ]\n",
    "\n",
    "predictResponse = predictLinearRegressionAverage(myDll, selectedImagesPredict, \\\n",
    "                                                 pArrayWeight, imageW, imageH, component, 0, 0)\n",
    "print(\"Moyenne erreurs² : %s\" % predictResponse )\n",
    "print(\"Moyenne erreurs : %s\" % predictResponse**0.5 )\n",
    "#value = predictLinearRegression(myDll, pArrayWeight, pMatrixX)\n",
    "#print(value)"
   ]
  },
  {
   "cell_type": "code",
   "execution_count": null,
   "metadata": {},
   "outputs": [],
   "source": []
  }
 ],
 "metadata": {
  "kernelspec": {
   "display_name": "Python 3",
   "language": "python",
   "name": "python3"
  },
  "language_info": {
   "codemirror_mode": {
    "name": "ipython",
    "version": 3
   },
   "file_extension": ".py",
   "mimetype": "text/x-python",
   "name": "python",
   "nbconvert_exporter": "python",
   "pygments_lexer": "ipython3",
   "version": "3.7.3"
  }
 },
 "nbformat": 4,
 "nbformat_minor": 2
}
