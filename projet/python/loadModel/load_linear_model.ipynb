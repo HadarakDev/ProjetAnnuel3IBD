{
 "cells": [
  {
   "cell_type": "code",
   "execution_count": 14,
   "metadata": {},
   "outputs": [],
   "source": [
    "from ctypes import *\n",
    "import numpy as np\n",
    "\n",
    "%run \"~\\notebook\\encapsulate\\encapsulateSharedMethods.py\"\n",
    "%run \"~\\notebook\\encapsulate\\encapsulateLinear.py\"\n",
    "\n",
    "pathDLL = \"C:/Users/minet/notebook/ML_Library.dll\"\n",
    "\n",
    "#change save file\n",
    "savePath = \"C:/Users/minet/notebook/sauvegarde/Linear_Bigdataset_Gray_100x50.csv\"\n",
    "#change image\n",
    "imagePath = \"C:/Users/minet/notebook/images/1_0_0_20161219190621290.jpg\"\n",
    "\n",
    "myDll = CDLL(pathDLL)"
   ]
  },
  {
   "cell_type": "markdown",
   "metadata": {},
   "source": [
    "# Params"
   ]
  },
  {
   "cell_type": "code",
   "execution_count": 15,
   "metadata": {},
   "outputs": [],
   "source": [
    "imageW = 100\n",
    "imageH = 50\n",
    "numberImageTrain = 1\n",
    "component = 3\n",
    "numberImageTrain = 1\n",
    "inputCountPerSample = (imageW * imageH * component)"
   ]
  },
  {
   "cell_type": "markdown",
   "metadata": {},
   "source": [
    "# Load save and predict"
   ]
  },
  {
   "cell_type": "code",
   "execution_count": 20,
   "metadata": {},
   "outputs": [
    {
     "name": "stdout",
     "output_type": "stream",
     "text": [
      "32.53944207590369\n"
     ]
    }
   ],
   "source": [
    "pMatrixX, pMatrixY = prepareDataset(myDll, imagePath, imageW, imageH, numberImageTrain, component)\n",
    "pArrayWeight = loadLinearWeightsWithCSV(myDll, savePath, inputCountPerSample)\n",
    "value = predictLinearRegression(myDll, pArrayWeight, pMatrixX)\n",
    "print(value)"
   ]
  }
 ],
 "metadata": {
  "kernelspec": {
   "display_name": "Python 3",
   "language": "python",
   "name": "python3"
  },
  "language_info": {
   "codemirror_mode": {
    "name": "ipython",
    "version": 3
   },
   "file_extension": ".py",
   "mimetype": "text/x-python",
   "name": "python",
   "nbconvert_exporter": "python",
   "pygments_lexer": "ipython3",
   "version": "3.7.3"
  }
 },
 "nbformat": 4,
 "nbformat_minor": 2
}
